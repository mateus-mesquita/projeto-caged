{
  "cells": [
    {
      "cell_type": "code",
      "execution_count": 3,
      "metadata": {
        "id": "p2bBveRCyt_6"
      },
      "outputs": [],
      "source": [
        "import pandas as pd  # Importa pandas.\n",
        "import sqlite3  # Importa sqlite3.\n",
        "from itertools import combinations  # Importa 'combinations'.\n",
        "import csv  # Importa csv\n",
        "import tqdm  # Importa tqdm"
      ]
    },
    {
      "cell_type": "markdown",
      "metadata": {
        "id": "h2pBBWkvz-Cz"
      },
      "source": [
        "## Funções"
      ]
    },
    {
      "cell_type": "markdown",
      "source": [
        "A função **contar_por_grupo** consulta um banco de dados para contar as ocorrências de **\"Admissao\"** agrupadas por variáveis específicas de uma tabela, retornando o resultado em um DataFrame do Pandas."
      ],
      "metadata": {
        "id": "FA-I0kpy_2fz"
      }
    },
    {
      "cell_type": "code",
      "execution_count": 1,
      "metadata": {
        "id": "coGK6QkHz1Rp"
      },
      "outputs": [],
      "source": [
        "def contar_por_grupo(conexao, tabela, variaveis):\n",
        "    # Esta função conta ocorrências únicas de combinações de variáveis.\n",
        "    try:\n",
        "        colunas = \", \".join(variaveis)  # Formata variáveis para SQL.\n",
        "\n",
        "        sql = f\"\"\"\n",
        "            SELECT {colunas}, COUNT(*) as admissoes\n",
        "            FROM {tabela}\n",
        "            WHERE tipomovimentação LIKE '%Admissao%'\n",
        "            GROUP BY {colunas}\n",
        "        \"\"\"  # Constrói a consulta SQL de contagem.\n",
        "        return pd.read_sql(sql, conexao)  # Executa a consulta e retorna DataFrame.\n",
        "    except TypeError as t:\n",
        "        print(t)\n",
        "        print(\"As variáveis devem ser uma lista ou tupla de strings.\")\n",
        "    except pd.io.sql.DatabaseError as pdr:\n",
        "        print(pdr)\n",
        "        print(\"Falha ao executar a consulta SQL. Verifique a conexão com o banco de dados e a sintaxe da query.\")\n",
        "    except AttributeError as a:\n",
        "        print(a)\n",
        "        print(\"O objeto 'conexao' não é um objeto de conexão de banco de dados válido para pandas.\")"
      ]
    },
    {
      "cell_type": "markdown",
      "source": [
        "Essa função consulta um banco de dados para **contar as demissões** em uma tabela específica, agrupando os resultados pelas variáveis (colunas) fornecidas."
      ],
      "metadata": {
        "id": "lhLLMB38_74C"
      }
    },
    {
      "cell_type": "code",
      "execution_count": 2,
      "metadata": {
        "id": "D2YtmMSYAWas"
      },
      "outputs": [],
      "source": [
        "def contar_por_grupo_demissoes(conexao, tabela, variaveis):\n",
        "    # Esta função conta ocorrências únicas de combinações de variáveis.\n",
        "    try:\n",
        "        colunas = \", \".join(variaveis)  # Formata variáveis para SQL.\n",
        "\n",
        "        sql = f\"\"\"\n",
        "            SELECT {colunas}, COUNT(*) as demissoes\n",
        "            FROM {tabela}\n",
        "            WHERE tipomovimentação NOT LIKE '%Admissao%'\n",
        "            GROUP BY {colunas}\n",
        "        \"\"\"  # Constrói a consulta SQL de contagem.\n",
        "\n",
        "        return pd.read_sql(sql, conexao)  # Executa a consulta e retorna DataFrame.\n",
        "    except TypeError as t:\n",
        "        print(t)\n",
        "        print(\"A variável 'variaveis' deve ser uma lista ou tupla de strings.\")\n",
        "\n",
        "    except ValueError as v:\n",
        "        print(v)\n",
        "        print(\"A consulta SQL está malformada ou a tabela/coluna não existe no banco de dados.\")"
      ]
    },
    {
      "cell_type": "markdown",
      "source": [
        "A função **`contagem_total_admissoes`** executa uma consulta SQL para contar o número total de admissões em uma tabela específica do banco de dados e, em seguida, retorna esse valor em um DataFrame do Pandas formatado com colunas vazias para padronização."
      ],
      "metadata": {
        "id": "B113_uZZAGIy"
      }
    },
    {
      "cell_type": "code",
      "execution_count": null,
      "metadata": {
        "id": "YL6DWcYe0Aop"
      },
      "outputs": [],
      "source": [
        "def contagem_total_admissoes(conexao,tabela):\n",
        "    # Esta função conta o número total de registros na tabela.\n",
        "  try:\n",
        "    contagem = pd.read_sql(f\"SELECT count(*) FROM {tabela} WHERE tipomovimentação LIKE '%Admissao%';\", conexao) # Conta total de admissões.\n",
        "\n",
        "    contagem = contagem.rename(columns={\"count(*)\": 'admissoes'}) # Renomeia coluna.\n",
        "\n",
        "    valor = contagem.iloc[0, 0] # Extrai o valor da contagem.\n",
        "\n",
        "    dados = pd.DataFrame([{\n",
        "        'uf': \"\",\n",
        "        'sexo': \"\",\n",
        "        'raçacor': \"\",\n",
        "        'faixa_idade': \"\",\n",
        "        'graudeinstrução': \"\",\n",
        "        \"admissoes\": valor\n",
        "    }]) # Cria DataFrame padronizado.\n",
        "\n",
        "    return dados # Retorna o DataFrame.\n",
        "  except:\n",
        "    print(f\"Erro ao executar a contagem total de admissões\")"
      ]
    },
    {
      "cell_type": "markdown",
      "source": [
        "A função **`contagem_total_demissoes`** consulta um banco de dados para obter o número total de demissões em uma tabela específica e retorna esse total em um DataFrame do Pandas, preenchendo as demais colunas com valores vazios para padronização."
      ],
      "metadata": {
        "id": "K1OEoRj4ATWR"
      }
    },
    {
      "cell_type": "code",
      "execution_count": null,
      "metadata": {
        "id": "Kx0N7VYs95H9"
      },
      "outputs": [],
      "source": [
        "def contagem_total_demissoes(conexao,tabela):\n",
        "    # Esta função conta o número total de registros na tabela.\n",
        "  try:\n",
        "    contagem = pd.read_sql(f\"SELECT count(*) FROM {tabela} WHERE tipomovimentação NOT LIKE '%Admissao%';\", conexao) # Conta total de demissões.\n",
        "\n",
        "    contagem = contagem.rename(columns={\"count(*)\": 'demissoes'}) # Renomeia coluna.\n",
        "\n",
        "    valor = contagem.iloc[0, 0] # Extrai o valor da contagem.\n",
        "\n",
        "    dados = pd.DataFrame([{\n",
        "        'uf': \"\",\n",
        "        'sexo': \"\",\n",
        "        'raçacor': \"\",\n",
        "        'faixa_idade': \"\",\n",
        "        'graudeinstrução': \"\",\n",
        "        \"demissoes\": valor\n",
        "    }]) # Cria DataFrame padronizado.\n",
        "    return dados # Retorna o DataFrame.\n",
        "  except:\n",
        "    print(f\"Erro ao executar a contagem total de demissões\")"
      ]
    },
    {
      "cell_type": "markdown",
      "source": [
        "A função **`tabela_contagem`** calcula o número de admissões para todas as combinações possíveis de variáveis especificadas e as concatena em um único DataFrame do Pandas. Ela inclui uma contagem total de admissões no início e adiciona uma coluna de mês ao DataFrame final."
      ],
      "metadata": {
        "id": "ST5oJv73AjBx"
      }
    },
    {
      "cell_type": "code",
      "execution_count": null,
      "metadata": {
        "id": "UnBZ61AA0ZWb"
      },
      "outputs": [],
      "source": [
        "def tabela_contagem(n,tabela,variaveis,mes,conexao) -> pd.DataFrame:\n",
        "    todas_combinacoes = []  # Inicializa lista de combinações.\n",
        "\n",
        "    for r in range(1, len(variaveis) + 1):  # Itera sobre tamanhos de combinação.\n",
        "        todas_combinacoes.extend(combinations(variaveis, r))  # Gera e adiciona combinações.\n",
        "\n",
        "    todas_combinacoes = [list(comb) for comb in todas_combinacoes]  # Converte tuplas em listas.\n",
        "    df_start = contagem_total_admissoes(conexao,tabela)  # Contagem total de admissões.\n",
        "\n",
        "    for comb in todas_combinacoes:\n",
        "      df = contar_por_grupo(conexao,tabela,comb)  # Conta por grupo.\n",
        "      df_start = pd.concat([df_start,df],ignore_index=True)  # Concatena DataFrames.\n",
        "\n",
        "    df_start.insert(0,'mes',mes)  # Insere coluna 'mes'.\n",
        "    return df_start  # Retorna o DataFrame final."
      ]
    },
    {
      "cell_type": "markdown",
      "source": [
        "A função **`tabela_contagem_demissoes`** calcula o número de demissões para todas as combinações possíveis de variáveis especificadas, concatenando-as em um único DataFrame do Pandas. Ela inclui uma contagem total de demissões no início e adiciona uma coluna de mês ao DataFrame resultante."
      ],
      "metadata": {
        "id": "wnmQGkdcAowi"
      }
    },
    {
      "cell_type": "code",
      "execution_count": null,
      "metadata": {
        "id": "DBL_gE-S-OSq"
      },
      "outputs": [],
      "source": [
        "def tabela_contagem_demissoes(n,tabela,variaveis,mes,conexao):\n",
        "    todas_combinacoes = []  # Inicializa lista de combinações.\n",
        "\n",
        "    for r in range(1, len(variaveis) + 1):  # Itera sobre tamanhos de combinação.\n",
        "        todas_combinacoes.extend(combinations(variaveis, r))  # Gera e adiciona combinações.\n",
        "\n",
        "    todas_combinacoes = [list(comb) for comb in todas_combinacoes]  # Converte tuplas em listas.\n",
        "    df_start = contagem_total_demissoes(conexao,tabela)  # Contagem total de demissões.\n",
        "\n",
        "    for comb in todas_combinacoes:\n",
        "      df = contar_por_grupo_demissoes(conexao,tabela,comb)  # Conta por grupo de demissões.\n",
        "      df_start = pd.concat([df_start,df],ignore_index=True)  # Concatena DataFrames.\n",
        "\n",
        "    df_start.insert(0,'mes',mes)  # Insere coluna 'mes'.\n",
        "    return df_start  # Retorna o DataFrame final."
      ]
    },
    {
      "cell_type": "markdown",
      "metadata": {
        "id": "1Q6j8oXa6EJv"
      },
      "source": [
        "## Executando planilha de admissões"
      ]
    },
    {
      "cell_type": "code",
      "execution_count": null,
      "metadata": {
        "id": "dAcqd05T6LhX"
      },
      "outputs": [],
      "source": [
        "chaves = ['competênciamov','cbo2002ocupação','uf', 'sexo', 'raçacor', 'faixa_idade', 'graudeinstrução']  # Define lista de chaves."
      ]
    },
    {
      "cell_type": "code",
      "execution_count": null,
      "metadata": {
        "id": "5OtI_D1g09s0"
      },
      "outputs": [],
      "source": [
        "# dic_dfs = {}  # Inicializa dicionário de DataFrames.\n",
        "\n",
        "# dic_mov = {\n",
        "#     \"cagedmov202401\": \"janeiro\",\n",
        "#     \"cagedmov202402\": \"fevereiro\",\n",
        "#     \"cagedmov202403\": \"março\",\n",
        "#     \"cagedmov202404\": \"abril\",\n",
        "#     \"cagedmov202405\": \"maio\",\n",
        "#     \"cagedmov202406\": \"junho\",\n",
        "#     \"cagedmov202407\": \"julho\",\n",
        "#     \"cagedmov202408\": \"agosto\",\n",
        "#     \"cagedmov202409\": \"setembro\",\n",
        "#     \"cagedmov202410\": \"outubro\",\n",
        "#     \"cagedmov202411\": \"novembro\",\n",
        "#     \"cagedmov202412\": \"dezembro\"\n",
        "# }"
      ]
    },
    {
      "cell_type": "code",
      "execution_count": null,
      "metadata": {
        "id": "6mNCwTN2_K9o"
      },
      "outputs": [],
      "source": [
        "# for chave, valor in dic_mov.items():\n",
        "#     dic_dfs[valor] = tabela_contagem(\"\",chave,chaves,valor).fillna(\"\") # Popula dic_dfs com contagens de admissões.\n",
        "#     print(f\"Mes de {valor} executado\") # Imprime progresso.\n",
        "\n",
        "# df_final = dic_dfs['janeiro'] # Inicializa df_final com dados de janeiro.\n",
        "# for chave, valor in dic_dfs.items():\n",
        "#     if chave != 'janeiro':\n",
        "#         df_final = pd.concat([df_final,valor],ignore_index=True) # Concatena os demais meses.\n",
        "\n",
        "# df_final # Exibe o DataFrame final."
      ]
    },
    {
      "cell_type": "code",
      "execution_count": null,
      "metadata": {
        "id": "PjXirifp9K0Y"
      },
      "outputs": [],
      "source": [
        "ufs = ['','CE','BA','PE'] # Lista de UFs."
      ]
    },
    {
      "cell_type": "code",
      "execution_count": null,
      "metadata": {
        "id": "xD1ns9cY6LDd"
      },
      "outputs": [],
      "source": [
        "# tabela_filtrada = df_final.query(\"uf in @ufs\") # Filtra o DataFrame por UFs."
      ]
    },
    {
      "cell_type": "markdown",
      "source": [
        "A função **`Tabela_contagem_admissoes`** automatiza a coleta e agregação de dados de admissões. Ela percorre um dicionário de arquivos, calcula o número de admissões para diversas combinações de variáveis em cada um, e então, une esses resultados em um único DataFrame. Por fim, o DataFrame consolidado é filtrado por Unidades da Federação (UFs) e retornado. Se ocorrer qualquer problema durante esse processo, uma mensagem de erro será exibida."
      ],
      "metadata": {
        "id": "wmYnS7ihFwCy"
      }
    },
    {
      "cell_type": "code",
      "source": [
        "def Tabela_contagem_admissoes(conexao,dic_arquivos):\n",
        "    dic_dfs = {}  # Inicializa dicionário de DataFrames.\n",
        "    for chave, valor in tqdm.tqdm(dic_arquivos.items()):\n",
        "      dic_dfs[valor] = tabela_contagem(\"\",chave,chaves,valor,conexao).fillna(\"\") # Popula dic_dfs com contagens de admissões.\n",
        "\n",
        "    df_final = dic_dfs['janeiro'] # Inicializa df_final com dados de janeiro.\n",
        "    for chave, valor in dic_dfs.items():\n",
        "      if chave != 'janeiro':\n",
        "        df_final = pd.concat([df_final,valor],ignore_index=True) # Concatena os demais meses.\n",
        "\n",
        "    tabela_filtrada = df_final.query(\"uf in @ufs\") # Filtra o DataFrame por UFs.\n",
        "    return tabela_filtrada\n"
      ],
      "metadata": {
        "id": "N0n4YDuJBxU2"
      },
      "execution_count": null,
      "outputs": []
    },
    {
      "cell_type": "markdown",
      "metadata": {
        "id": "gs7H4VGp_MfY"
      },
      "source": [
        "## Executando planilha de demissões"
      ]
    },
    {
      "cell_type": "code",
      "execution_count": null,
      "metadata": {
        "id": "OArN_rBB_Xob"
      },
      "outputs": [],
      "source": [
        "# dic_dfs2 = {} # Inicializa um dicionário vazio para armazenar DataFrames."
      ]
    },
    {
      "cell_type": "code",
      "execution_count": null,
      "metadata": {
        "id": "jkBeQVRj_QTY"
      },
      "outputs": [],
      "source": [
        "# for chave, valor in dic_mov.items():\n",
        "#     dic_dfs2[valor] = tabela_contagem_demissoes(\"\",chave,chaves,valor).fillna(\"\") # Popula dic_dfs2 com contagens de demissões.\n",
        "#     print(f\"Mes de {valor} executado\") # Imprime progresso.\n",
        "\n",
        "# df_final2 = dic_dfs2['janeiro'] # Inicializa df_final2 com dados de janeiro.\n",
        "# for chave, df in dic_dfs2.items(): # Itera sobre o dicionário original 'dic_dfs'.\n",
        "#     if chave != 'janeiro':\n",
        "#         df_final2 = pd.concat([df_final2,df],ignore_index=True) # Concatena os DataFrames.\n",
        "\n",
        "# df_final2 # Exibe o DataFrame final."
      ]
    },
    {
      "cell_type": "code",
      "execution_count": null,
      "metadata": {
        "id": "L51qGxps_uYO"
      },
      "outputs": [],
      "source": [
        "# tabela_filtrada2 = df_final2.query(\"uf in @ufs\") # Filtra o DataFrame por UFs."
      ]
    },
    {
      "cell_type": "markdown",
      "source": [
        "Esta função, **`Tabela_contagem_demissoes`**, processa um dicionário de arquivos para calcular e consolidar contagens de demissões. Para cada item no dicionário de entrada, ela gera um DataFrame com contagens de demissões agrupadas por diferentes variáveis e as concatena em um DataFrame final. Caso ocorra algum erro durante o processo, uma mensagem de erro é exibida."
      ],
      "metadata": {
        "id": "CtM-vKinFXD9"
      }
    },
    {
      "cell_type": "code",
      "source": [
        "def Tabela_contagem_demissoes(conexao,dic_arquivos):\n",
        "  dic_dfs2 = {} # Inicializa um dicionário vazio para armazenar DataFrames.\n",
        "  global chaves\n",
        "  try:\n",
        "    for chave, valor in tqdm.tqdm(dic_arquivos.items()):\n",
        "      dic_dfs2[valor] = tabela_contagem_demissoes(\"\",chave,chaves,valor,conexao).fillna(\"\") # Popula dic_dfs2 com contagens de demissões.\n",
        "\n",
        "    df_final2 = dic_dfs2['janeiro']\n",
        "    for chave, df in dic_dfs2.items(): # Itera sobre o dicionário original 'dic_dfs'.\n",
        "      if chave != 'janeiro':\n",
        "        df_final2 = pd.concat([df_final2,df],ignore_index = True)\n",
        "    return df_final2\n",
        "  except:\n",
        "    print(f\"Erro ao executar a tabela de demissões\")"
      ],
      "metadata": {
        "id": "SLpSjpQqEROm"
      },
      "execution_count": null,
      "outputs": []
    },
    {
      "cell_type": "code",
      "source": [
        "dic = {\n",
        "    \"cagedexc202401\": \"janeiro\",\n",
        "    \"cagedexc202402\": \"fevereiro\"\n",
        "}"
      ],
      "metadata": {
        "id": "sHnMSyBrH51M"
      },
      "execution_count": null,
      "outputs": []
    },
    {
      "cell_type": "code",
      "source": [
        "con = sqlite3.connect(\"exc.db\")"
      ],
      "metadata": {
        "id": "8ilbyFvCJrxf"
      },
      "execution_count": null,
      "outputs": []
    },
    {
      "cell_type": "code",
      "source": [
        "teste = ['mes','competênciamov','cbo2002ocupação','uf', 'sexo', 'raçacor', 'faixa_idade', 'graudeinstrução',\n",
        "       'demissoes']"
      ],
      "metadata": {
        "id": "x9dwB5USPRsH"
      },
      "execution_count": null,
      "outputs": []
    },
    {
      "cell_type": "code",
      "source": [
        "Tabela_contagem_demissoes(con,dic).reindex(columns = teste)"
      ],
      "metadata": {
        "colab": {
          "base_uri": "https://localhost:8080/",
          "height": 458
        },
        "id": "BMU7WiuxJ3PT",
        "outputId": "a8811277-2f72-4126-de9d-aa130825dd74"
      },
      "execution_count": null,
      "outputs": [
        {
          "output_type": "stream",
          "name": "stderr",
          "text": [
            "100%|██████████| 2/2 [00:05<00:00,  2.59s/it]\n"
          ]
        },
        {
          "output_type": "execute_result",
          "data": {
            "text/plain": [
              "              mes competênciamov cbo2002ocupação  uf       sexo  \\\n",
              "0         janeiro                                                 \n",
              "1         janeiro       202001.0                                  \n",
              "2         janeiro       202002.0                                  \n",
              "3         janeiro       202003.0                                  \n",
              "4         janeiro       202004.0                                  \n",
              "...           ...            ...             ...  ..        ...   \n",
              "413826  fevereiro       202401.0        919105.0  MT  Masculino   \n",
              "413827  fevereiro       202401.0        991305.0  MS  Masculino   \n",
              "413828  fevereiro       202401.0        991310.0  SP  Masculino   \n",
              "413829  fevereiro       202401.0        991315.0  SC  Masculino   \n",
              "413830  fevereiro       202401.0        992225.0  GO  Masculino   \n",
              "\n",
              "              raçacor faixa_idade graudeinstrução  demissoes  \n",
              "0                                                       4109  \n",
              "1                                                         24  \n",
              "2                                                         21  \n",
              "3                                                         17  \n",
              "4                                                         20  \n",
              "...               ...         ...             ...        ...  \n",
              "413826          Parda     25 a 39     MEDIO COMPL          1  \n",
              "413827          Parda     25 a 39     MEDIO COMPL          1  \n",
              "413828         Branca     40 a 59     MEDIO COMPL          1  \n",
              "413829  Não informada     40 a 59     MEDIO COMPL          1  \n",
              "413830          Parda     25 a 39     MEDIO COMPL          1  \n",
              "\n",
              "[413831 rows x 9 columns]"
            ],
            "text/html": [
              "\n",
              "  <div id=\"df-1e76f504-8c71-4646-b0ef-8e8c0d816a49\" class=\"colab-df-container\">\n",
              "    <div>\n",
              "<style scoped>\n",
              "    .dataframe tbody tr th:only-of-type {\n",
              "        vertical-align: middle;\n",
              "    }\n",
              "\n",
              "    .dataframe tbody tr th {\n",
              "        vertical-align: top;\n",
              "    }\n",
              "\n",
              "    .dataframe thead th {\n",
              "        text-align: right;\n",
              "    }\n",
              "</style>\n",
              "<table border=\"1\" class=\"dataframe\">\n",
              "  <thead>\n",
              "    <tr style=\"text-align: right;\">\n",
              "      <th></th>\n",
              "      <th>mes</th>\n",
              "      <th>competênciamov</th>\n",
              "      <th>cbo2002ocupação</th>\n",
              "      <th>uf</th>\n",
              "      <th>sexo</th>\n",
              "      <th>raçacor</th>\n",
              "      <th>faixa_idade</th>\n",
              "      <th>graudeinstrução</th>\n",
              "      <th>demissoes</th>\n",
              "    </tr>\n",
              "  </thead>\n",
              "  <tbody>\n",
              "    <tr>\n",
              "      <th>0</th>\n",
              "      <td>janeiro</td>\n",
              "      <td></td>\n",
              "      <td></td>\n",
              "      <td></td>\n",
              "      <td></td>\n",
              "      <td></td>\n",
              "      <td></td>\n",
              "      <td></td>\n",
              "      <td>4109</td>\n",
              "    </tr>\n",
              "    <tr>\n",
              "      <th>1</th>\n",
              "      <td>janeiro</td>\n",
              "      <td>202001.0</td>\n",
              "      <td></td>\n",
              "      <td></td>\n",
              "      <td></td>\n",
              "      <td></td>\n",
              "      <td></td>\n",
              "      <td></td>\n",
              "      <td>24</td>\n",
              "    </tr>\n",
              "    <tr>\n",
              "      <th>2</th>\n",
              "      <td>janeiro</td>\n",
              "      <td>202002.0</td>\n",
              "      <td></td>\n",
              "      <td></td>\n",
              "      <td></td>\n",
              "      <td></td>\n",
              "      <td></td>\n",
              "      <td></td>\n",
              "      <td>21</td>\n",
              "    </tr>\n",
              "    <tr>\n",
              "      <th>3</th>\n",
              "      <td>janeiro</td>\n",
              "      <td>202003.0</td>\n",
              "      <td></td>\n",
              "      <td></td>\n",
              "      <td></td>\n",
              "      <td></td>\n",
              "      <td></td>\n",
              "      <td></td>\n",
              "      <td>17</td>\n",
              "    </tr>\n",
              "    <tr>\n",
              "      <th>4</th>\n",
              "      <td>janeiro</td>\n",
              "      <td>202004.0</td>\n",
              "      <td></td>\n",
              "      <td></td>\n",
              "      <td></td>\n",
              "      <td></td>\n",
              "      <td></td>\n",
              "      <td></td>\n",
              "      <td>20</td>\n",
              "    </tr>\n",
              "    <tr>\n",
              "      <th>...</th>\n",
              "      <td>...</td>\n",
              "      <td>...</td>\n",
              "      <td>...</td>\n",
              "      <td>...</td>\n",
              "      <td>...</td>\n",
              "      <td>...</td>\n",
              "      <td>...</td>\n",
              "      <td>...</td>\n",
              "      <td>...</td>\n",
              "    </tr>\n",
              "    <tr>\n",
              "      <th>413826</th>\n",
              "      <td>fevereiro</td>\n",
              "      <td>202401.0</td>\n",
              "      <td>919105.0</td>\n",
              "      <td>MT</td>\n",
              "      <td>Masculino</td>\n",
              "      <td>Parda</td>\n",
              "      <td>25 a 39</td>\n",
              "      <td>MEDIO COMPL</td>\n",
              "      <td>1</td>\n",
              "    </tr>\n",
              "    <tr>\n",
              "      <th>413827</th>\n",
              "      <td>fevereiro</td>\n",
              "      <td>202401.0</td>\n",
              "      <td>991305.0</td>\n",
              "      <td>MS</td>\n",
              "      <td>Masculino</td>\n",
              "      <td>Parda</td>\n",
              "      <td>25 a 39</td>\n",
              "      <td>MEDIO COMPL</td>\n",
              "      <td>1</td>\n",
              "    </tr>\n",
              "    <tr>\n",
              "      <th>413828</th>\n",
              "      <td>fevereiro</td>\n",
              "      <td>202401.0</td>\n",
              "      <td>991310.0</td>\n",
              "      <td>SP</td>\n",
              "      <td>Masculino</td>\n",
              "      <td>Branca</td>\n",
              "      <td>40 a 59</td>\n",
              "      <td>MEDIO COMPL</td>\n",
              "      <td>1</td>\n",
              "    </tr>\n",
              "    <tr>\n",
              "      <th>413829</th>\n",
              "      <td>fevereiro</td>\n",
              "      <td>202401.0</td>\n",
              "      <td>991315.0</td>\n",
              "      <td>SC</td>\n",
              "      <td>Masculino</td>\n",
              "      <td>Não informada</td>\n",
              "      <td>40 a 59</td>\n",
              "      <td>MEDIO COMPL</td>\n",
              "      <td>1</td>\n",
              "    </tr>\n",
              "    <tr>\n",
              "      <th>413830</th>\n",
              "      <td>fevereiro</td>\n",
              "      <td>202401.0</td>\n",
              "      <td>992225.0</td>\n",
              "      <td>GO</td>\n",
              "      <td>Masculino</td>\n",
              "      <td>Parda</td>\n",
              "      <td>25 a 39</td>\n",
              "      <td>MEDIO COMPL</td>\n",
              "      <td>1</td>\n",
              "    </tr>\n",
              "  </tbody>\n",
              "</table>\n",
              "<p>413831 rows × 9 columns</p>\n",
              "</div>\n",
              "    <div class=\"colab-df-buttons\">\n",
              "\n",
              "  <div class=\"colab-df-container\">\n",
              "    <button class=\"colab-df-convert\" onclick=\"convertToInteractive('df-1e76f504-8c71-4646-b0ef-8e8c0d816a49')\"\n",
              "            title=\"Convert this dataframe to an interactive table.\"\n",
              "            style=\"display:none;\">\n",
              "\n",
              "  <svg xmlns=\"http://www.w3.org/2000/svg\" height=\"24px\" viewBox=\"0 -960 960 960\">\n",
              "    <path d=\"M120-120v-720h720v720H120Zm60-500h600v-160H180v160Zm220 220h160v-160H400v160Zm0 220h160v-160H400v160ZM180-400h160v-160H180v160Zm440 0h160v-160H620v160ZM180-180h160v-160H180v160Zm440 0h160v-160H620v160Z\"/>\n",
              "  </svg>\n",
              "    </button>\n",
              "\n",
              "  <style>\n",
              "    .colab-df-container {\n",
              "      display:flex;\n",
              "      gap: 12px;\n",
              "    }\n",
              "\n",
              "    .colab-df-convert {\n",
              "      background-color: #E8F0FE;\n",
              "      border: none;\n",
              "      border-radius: 50%;\n",
              "      cursor: pointer;\n",
              "      display: none;\n",
              "      fill: #1967D2;\n",
              "      height: 32px;\n",
              "      padding: 0 0 0 0;\n",
              "      width: 32px;\n",
              "    }\n",
              "\n",
              "    .colab-df-convert:hover {\n",
              "      background-color: #E2EBFA;\n",
              "      box-shadow: 0px 1px 2px rgba(60, 64, 67, 0.3), 0px 1px 3px 1px rgba(60, 64, 67, 0.15);\n",
              "      fill: #174EA6;\n",
              "    }\n",
              "\n",
              "    .colab-df-buttons div {\n",
              "      margin-bottom: 4px;\n",
              "    }\n",
              "\n",
              "    [theme=dark] .colab-df-convert {\n",
              "      background-color: #3B4455;\n",
              "      fill: #D2E3FC;\n",
              "    }\n",
              "\n",
              "    [theme=dark] .colab-df-convert:hover {\n",
              "      background-color: #434B5C;\n",
              "      box-shadow: 0px 1px 3px 1px rgba(0, 0, 0, 0.15);\n",
              "      filter: drop-shadow(0px 1px 2px rgba(0, 0, 0, 0.3));\n",
              "      fill: #FFFFFF;\n",
              "    }\n",
              "  </style>\n",
              "\n",
              "    <script>\n",
              "      const buttonEl =\n",
              "        document.querySelector('#df-1e76f504-8c71-4646-b0ef-8e8c0d816a49 button.colab-df-convert');\n",
              "      buttonEl.style.display =\n",
              "        google.colab.kernel.accessAllowed ? 'block' : 'none';\n",
              "\n",
              "      async function convertToInteractive(key) {\n",
              "        const element = document.querySelector('#df-1e76f504-8c71-4646-b0ef-8e8c0d816a49');\n",
              "        const dataTable =\n",
              "          await google.colab.kernel.invokeFunction('convertToInteractive',\n",
              "                                                    [key], {});\n",
              "        if (!dataTable) return;\n",
              "\n",
              "        const docLinkHtml = 'Like what you see? Visit the ' +\n",
              "          '<a target=\"_blank\" href=https://colab.research.google.com/notebooks/data_table.ipynb>data table notebook</a>'\n",
              "          + ' to learn more about interactive tables.';\n",
              "        element.innerHTML = '';\n",
              "        dataTable['output_type'] = 'display_data';\n",
              "        await google.colab.output.renderOutput(dataTable, element);\n",
              "        const docLink = document.createElement('div');\n",
              "        docLink.innerHTML = docLinkHtml;\n",
              "        element.appendChild(docLink);\n",
              "      }\n",
              "    </script>\n",
              "  </div>\n",
              "\n",
              "\n",
              "    <div id=\"df-76b9cf45-ad04-44f0-93f0-0cd511b328e4\">\n",
              "      <button class=\"colab-df-quickchart\" onclick=\"quickchart('df-76b9cf45-ad04-44f0-93f0-0cd511b328e4')\"\n",
              "                title=\"Suggest charts\"\n",
              "                style=\"display:none;\">\n",
              "\n",
              "<svg xmlns=\"http://www.w3.org/2000/svg\" height=\"24px\"viewBox=\"0 0 24 24\"\n",
              "     width=\"24px\">\n",
              "    <g>\n",
              "        <path d=\"M19 3H5c-1.1 0-2 .9-2 2v14c0 1.1.9 2 2 2h14c1.1 0 2-.9 2-2V5c0-1.1-.9-2-2-2zM9 17H7v-7h2v7zm4 0h-2V7h2v10zm4 0h-2v-4h2v4z\"/>\n",
              "    </g>\n",
              "</svg>\n",
              "      </button>\n",
              "\n",
              "<style>\n",
              "  .colab-df-quickchart {\n",
              "      --bg-color: #E8F0FE;\n",
              "      --fill-color: #1967D2;\n",
              "      --hover-bg-color: #E2EBFA;\n",
              "      --hover-fill-color: #174EA6;\n",
              "      --disabled-fill-color: #AAA;\n",
              "      --disabled-bg-color: #DDD;\n",
              "  }\n",
              "\n",
              "  [theme=dark] .colab-df-quickchart {\n",
              "      --bg-color: #3B4455;\n",
              "      --fill-color: #D2E3FC;\n",
              "      --hover-bg-color: #434B5C;\n",
              "      --hover-fill-color: #FFFFFF;\n",
              "      --disabled-bg-color: #3B4455;\n",
              "      --disabled-fill-color: #666;\n",
              "  }\n",
              "\n",
              "  .colab-df-quickchart {\n",
              "    background-color: var(--bg-color);\n",
              "    border: none;\n",
              "    border-radius: 50%;\n",
              "    cursor: pointer;\n",
              "    display: none;\n",
              "    fill: var(--fill-color);\n",
              "    height: 32px;\n",
              "    padding: 0;\n",
              "    width: 32px;\n",
              "  }\n",
              "\n",
              "  .colab-df-quickchart:hover {\n",
              "    background-color: var(--hover-bg-color);\n",
              "    box-shadow: 0 1px 2px rgba(60, 64, 67, 0.3), 0 1px 3px 1px rgba(60, 64, 67, 0.15);\n",
              "    fill: var(--button-hover-fill-color);\n",
              "  }\n",
              "\n",
              "  .colab-df-quickchart-complete:disabled,\n",
              "  .colab-df-quickchart-complete:disabled:hover {\n",
              "    background-color: var(--disabled-bg-color);\n",
              "    fill: var(--disabled-fill-color);\n",
              "    box-shadow: none;\n",
              "  }\n",
              "\n",
              "  .colab-df-spinner {\n",
              "    border: 2px solid var(--fill-color);\n",
              "    border-color: transparent;\n",
              "    border-bottom-color: var(--fill-color);\n",
              "    animation:\n",
              "      spin 1s steps(1) infinite;\n",
              "  }\n",
              "\n",
              "  @keyframes spin {\n",
              "    0% {\n",
              "      border-color: transparent;\n",
              "      border-bottom-color: var(--fill-color);\n",
              "      border-left-color: var(--fill-color);\n",
              "    }\n",
              "    20% {\n",
              "      border-color: transparent;\n",
              "      border-left-color: var(--fill-color);\n",
              "      border-top-color: var(--fill-color);\n",
              "    }\n",
              "    30% {\n",
              "      border-color: transparent;\n",
              "      border-left-color: var(--fill-color);\n",
              "      border-top-color: var(--fill-color);\n",
              "      border-right-color: var(--fill-color);\n",
              "    }\n",
              "    40% {\n",
              "      border-color: transparent;\n",
              "      border-right-color: var(--fill-color);\n",
              "      border-top-color: var(--fill-color);\n",
              "    }\n",
              "    60% {\n",
              "      border-color: transparent;\n",
              "      border-right-color: var(--fill-color);\n",
              "    }\n",
              "    80% {\n",
              "      border-color: transparent;\n",
              "      border-right-color: var(--fill-color);\n",
              "      border-bottom-color: var(--fill-color);\n",
              "    }\n",
              "    90% {\n",
              "      border-color: transparent;\n",
              "      border-bottom-color: var(--fill-color);\n",
              "    }\n",
              "  }\n",
              "</style>\n",
              "\n",
              "      <script>\n",
              "        async function quickchart(key) {\n",
              "          const quickchartButtonEl =\n",
              "            document.querySelector('#' + key + ' button');\n",
              "          quickchartButtonEl.disabled = true;  // To prevent multiple clicks.\n",
              "          quickchartButtonEl.classList.add('colab-df-spinner');\n",
              "          try {\n",
              "            const charts = await google.colab.kernel.invokeFunction(\n",
              "                'suggestCharts', [key], {});\n",
              "          } catch (error) {\n",
              "            console.error('Error during call to suggestCharts:', error);\n",
              "          }\n",
              "          quickchartButtonEl.classList.remove('colab-df-spinner');\n",
              "          quickchartButtonEl.classList.add('colab-df-quickchart-complete');\n",
              "        }\n",
              "        (() => {\n",
              "          let quickchartButtonEl =\n",
              "            document.querySelector('#df-76b9cf45-ad04-44f0-93f0-0cd511b328e4 button');\n",
              "          quickchartButtonEl.style.display =\n",
              "            google.colab.kernel.accessAllowed ? 'block' : 'none';\n",
              "        })();\n",
              "      </script>\n",
              "    </div>\n",
              "\n",
              "    </div>\n",
              "  </div>\n"
            ],
            "application/vnd.google.colaboratory.intrinsic+json": {
              "type": "dataframe"
            }
          },
          "metadata": {},
          "execution_count": 42
        }
      ]
    },
    {
      "cell_type": "code",
      "source": [],
      "metadata": {
        "id": "4e2AY5KmNcV0"
      },
      "execution_count": null,
      "outputs": []
    }
  ],
  "metadata": {
    "colab": {
      "provenance": []
    },
    "kernelspec": {
      "display_name": "Python 3",
      "name": "python3"
    },
    "language_info": {
      "name": "python"
    }
  },
  "nbformat": 4,
  "nbformat_minor": 0
}