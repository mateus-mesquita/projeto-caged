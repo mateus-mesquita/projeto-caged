{
  "nbformat": 4,
  "nbformat_minor": 0,
  "metadata": {
    "colab": {
      "provenance": []
    },
    "kernelspec": {
      "name": "python3",
      "display_name": "Python 3"
    },
    "language_info": {
      "name": "python"
    }
  },
  "cells": [
    {
      "cell_type": "markdown",
      "source": [
        "## Pré Processamento"
      ],
      "metadata": {
        "id": "2590KcpjxxJ1"
      }
    },
    {
      "cell_type": "code",
      "execution_count": 6,
      "metadata": {
        "id": "-PJ_mr79py_E"
      },
      "outputs": [],
      "source": [
        "import pandas as pd # Importa a biblioteca pandas para manipulação de dados.\n",
        "import tqdm # Importa tqdm para exibir barras de progresso.\n",
        "import sqlite3 # Importa sqlite3 para interagir com bancos de dados SQLite."
      ]
    },
    {
      "cell_type": "markdown",
      "source": [
        "lista de arquivos"
      ],
      "metadata": {
        "id": "4IVjc2e--n5x"
      }
    },
    {
      "cell_type": "code",
      "source": [
        "arquivos_cagedmov = {'cagedmov202401':'/content/drive/MyDrive/dados caged - nao processados/CAGEDMOV202401.txt',\n",
        "                     'cagedmov202402':'/content/drive/MyDrive/dados caged - nao processados/CAGEDMOV202402.txt',\n",
        "                     'cagedmov202403':'/content/drive/MyDrive/dados caged - nao processados/CAGEDMOV202403.txt',\n",
        "                     'cagedmov202404':'/content/drive/MyDrive/dados caged - nao processados/CAGEDMOV202404.txt'}"
      ],
      "metadata": {
        "id": "SOAcNyCM-s0H"
      },
      "execution_count": 5,
      "outputs": []
    },
    {
      "cell_type": "code",
      "source": [
        "arquivos_cagedfor = ['/content/drive/MyDrive/dados caged - nao processados/CAGEDFOR202401.txt',\n",
        "                     '/content/drive/MyDrive/dados caged - nao processados/CAGEDFOR202402.txt',\n",
        "                     '/content/drive/MyDrive/dados caged - nao processados/CAGEDFOR202403.txt',\n",
        "                     '/content/drive/MyDrive/dados caged - nao processados/CAGEDFOR202404.txt',\n",
        "                     '/content/drive/MyDrive/dados caged - nao processados/CAGEDFOR202405.txt',\n",
        "                     '/content/drive/MyDrive/dados caged - nao processados/CAGEDFOR202406.txt',\n",
        "                     '/content/drive/MyDrive/dados caged - nao processados/CAGEDFOR202407.txt',\n",
        "                     '/content/drive/MyDrive/dados caged - nao processados/CAGEDFOR202408.txt',\n",
        "                     '/content/drive/MyDrive/dados caged - nao processados/CAGEDFOR202409.txt',\n",
        "                     '/content/drive/MyDrive/dados caged - nao processados/CAGEDFOR2024010.txt',\n",
        "                     '/content/drive/MyDrive/dados caged - nao processados/CAGEDFOR2024011.txt',\n",
        "                     '/content/drive/MyDrive/dados caged - nao processados/CAGEDFOR2024012.txt']"
      ],
      "metadata": {
        "id": "OZQowynC-wte"
      },
      "execution_count": null,
      "outputs": []
    },
    {
      "cell_type": "code",
      "source": [
        "arquivos_cagedexc = {\"cagedexc202401\":'/content/drive/MyDrive/dados caged - nao processados/CAGEDEXC202401.txt',\n",
        "                     \"cagedexc202402\":'/content/drive/MyDrive/dados caged - nao processados/CAGEDEXC202402.txt'}"
      ],
      "metadata": {
        "id": "UF0N5YnQ-7Q2"
      },
      "execution_count": null,
      "outputs": []
    },
    {
      "cell_type": "markdown",
      "source": [
        "A função **preprocessamento** lê um arquivo de dados do CAGED, **padroniza os valores de diversas colunas categóricas** (como sexo, UF, região, raça/cor, grau de instrução, seção, categoria e tipo de movimentação) através de mapeamentos, cria uma **nova coluna de faixas etárias** e, por fim, **remove colunas** que não são consideradas relevantes para a análise, retornando o DataFrame tratado ou mensagens de erro em caso de problemas."
      ],
      "metadata": {
        "id": "nAAVxM_ztMiV"
      }
    },
    {
      "cell_type": "code",
      "source": [
        "def preprocessamento(arquivo_caged):\n",
        "    try:\n",
        "        # Abre o arquivo de dados CAGED\n",
        "        caged = pd.read_table(arquivo_caged, sep=\";\")\n",
        "\n",
        "        # Mapeia códigos de 'sexo' para descrições textuais\n",
        "        caged['sexo'] = caged['sexo'].replace({\n",
        "            1: 'Masculino',\n",
        "            3: 'Feminino',\n",
        "            9: 'Não informado'\n",
        "        })\n",
        "\n",
        "        # Mapeia códigos de 'uf' para siglas dos estados\n",
        "        caged['uf'] = caged['uf'].replace({\n",
        "            11: 'RO', 12: 'AC', 13: 'AM', 14: 'RR', 15: 'PA', 16: 'AP', 17: 'TO',\n",
        "            21: 'MA', 22: 'PI', 23: 'CE', 24: 'RN', 25: 'PB', 26: 'PE', 27: 'AL', 28: 'SE', 29: 'BA',\n",
        "            31: 'MG', 32: 'ES', 33: 'RJ', 35: 'SP', 41: 'PR', 42: 'SC', 43: 'RS',\n",
        "            50: 'MS', 51: 'MT', 52: 'GO', 53: 'DF'\n",
        "        })\n",
        "\n",
        "        # Mapeia códigos de 'região' para nomes das regiões\n",
        "        caged['região'] = caged['região'].replace({\n",
        "            1: 'Norte', 2: 'Nordeste', 3: 'Sudeste',\n",
        "            4: 'Sul', 5: 'Centro-Oeste', 9: 'Não identificado'\n",
        "        })\n",
        "\n",
        "        # Mapeia códigos de 'raçacor' para descrições de raça/cor\n",
        "        caged['raçacor'] = caged['raçacor'].replace({\n",
        "            1: 'Branca', 2: 'Preta', 3: 'Parda', 4: 'Amarela',\n",
        "            5: 'Indígena', 6: 'Não informada', 9: 'Não identificada'\n",
        "        })\n",
        "\n",
        "        # Mapeia códigos de 'graudeinstrução' para descrições de escolaridade\n",
        "        caged['graudeinstrução'] = caged['graudeinstrução'].replace({\n",
        "            1: \"ANALFABETO\", 2: \"ATE 5.A INC\", 3: \"5.A CO FUND\", 4: \"6.A.9.FUND\", 5: \"FUND COMPL\",\n",
        "            6: \"MEDIO INCOMP\", 7: \"MEDIO COMPL\", 8: \"SUP.INCOMP\", 9: \"SUP.COMP\",\n",
        "            10: \"MESTRADO\", 11: \"DOUTORADO\", 80: \"Pós-Graduação completa\", 99: \"Não identificado\"\n",
        "        })\n",
        "\n",
        "        # Mapeia códigos de 'seção' para descrições de atividade econômica\n",
        "        caged['seção'] = caged['seção'].replace({\n",
        "            'A': 'Agricultura, Pecuária, Produção Florestal, Pesca e AqÜIcultura',\n",
        "            'B': 'Indústrias Extrativas',\n",
        "            'C': 'Indústrias de Transformação',\n",
        "            'D': 'Eletricidade e Gás',\n",
        "            'E': 'Água, Esgoto, Atividades de Gestão de Resíduos e Descontaminação',\n",
        "            'F': 'Construção',\n",
        "            'G': 'Comércio, Reparação de Veículos Automotores e Motocicletas',\n",
        "            'H': 'Transporte, Armazenagem e Correio',\n",
        "            'I': 'Alojamento e Alimentação',\n",
        "            'J': 'Informação e Comunicação',\n",
        "            'K': 'Atividades Financeiras, de Seguros e Serviços Relacionados',\n",
        "            'L': 'Atividades Imobiliárias',\n",
        "            'M': 'Atividades Profissionais, Científicas e Técnicas',\n",
        "            'N': 'Atividades Administrativas e Serviços Complementares',\n",
        "            'O': 'Administração Pública, Defesa e Seguridade Social',\n",
        "            'P': 'Educação',\n",
        "            'Q': 'Saúde Humana e Serviços Sociais',\n",
        "            'R': 'Artes, Cultura, Esporte e Recreação',\n",
        "            'S': 'Outras Atividades de Serviços',\n",
        "            'T': 'Serviços Domésticos',\n",
        "            'U': 'Organismos Internacionais e Outras Instituições Extraterritoriais',\n",
        "            'Z': 'Não identificado'\n",
        "        })\n",
        "\n",
        "        # Mapeia códigos de 'categoria' para descrições de categorias de emprego\n",
        "        caged['categoria'] = caged['categoria'].replace({\n",
        "            101: 'Empregado - Geral, inclusive o empregado público da administração direta ou indireta contratado pela CLT',\n",
        "            102: 'Empregado - Trabalhador rural por pequeno prazo da Lei 11.718/2008',\n",
        "            103: 'Empregado - Aprendiz',\n",
        "            104: 'Empregado - Doméstico',\n",
        "            105: 'Empregado - Contrato a termo firmado nos termos da Lei 9.601/1998',\n",
        "            106: 'Trabalhador temporário - Contrato nos termos da Lei 6.019/1974',\n",
        "            107: 'Empregado - Contrato de trabalho Verde e Amarelo - sem acordo para antecipação mensal da multa rescisória do FGTS',\n",
        "            108: 'Empregado - Contrato de trabalho Verde e Amarelo - com acordo para antecipação mensal da multa rescisória do FGTS',\n",
        "            111: 'Empregado - Contrato de trabalho intermitente',\n",
        "            999: 'Não Identificado'\n",
        "        })\n",
        "\n",
        "        # Mapeia códigos de 'tipomovimentação' para descrições de movimentações\n",
        "        caged['tipomovimentação'] = caged['tipomovimentação'].replace({\n",
        "            10: 'Admissao por primeiro emprego',\n",
        "            20: 'Admissao por reemprego',\n",
        "            25: 'Admissao por contrato trabalho prazo determinado',\n",
        "            31: 'Desligamento por demissão sem justa causa',\n",
        "            32: 'Desligamento por demissão com justa causa',\n",
        "            33: 'Culpa Recíproca',\n",
        "            35: 'Admissao por reintegração',\n",
        "            40: 'Desligamento a pedido',\n",
        "            43: 'Término contrato trabalho prazo determinado',\n",
        "            45: 'Desligamento por Término de contrato',\n",
        "            50: 'Desligamento por aposentadoria',\n",
        "            60: 'Desligamento por morte',\n",
        "            70: 'Admissão por transferência',\n",
        "            80: 'Desligamento por transferência',\n",
        "            90: 'Desligamento por Acordo entre empregado e empregador',\n",
        "            97: 'Admissao de Tipo Ignorado',\n",
        "            98: 'Desligamento de Tipo Ignorado',\n",
        "            99: 'Não Identificado'\n",
        "        })\n",
        "\n",
        "        # Cria a coluna 'faixa_idade' categorizando a 'idade'\n",
        "        caged['faixa_idade'] = pd.cut(\n",
        "            caged['idade'],\n",
        "            bins=[14, 17, 24, 39, 59, float('inf')],\n",
        "            labels=[\"14 a 17\", \"18 a 24\", \"25 a 39\", \"40 a 59\", \"60 ou mais\"]\n",
        "        )\n",
        "\n",
        "        # Define colunas a serem excluídas\n",
        "        colunas_excluir = [\n",
        "            'região', 'idade', 'subclasse', 'saldomovimentação', 'categoria',\n",
        "            'horascontratuais', 'tipoempregador', 'tipoestabelecimento', 'tipodedeficiência',\n",
        "            'indtrabintermitente', 'indtrabparcial', 'salário', 'tamestabjan', 'indicadoraprendiz',\n",
        "            'origemdainformação', 'competênciadec', 'indicadordeforadoprazo', 'unidadesaláriocódigo',\n",
        "            'valorsaláriofixo','município','seção','competênciaexc','indicadordeexclusão'\n",
        "        ]\n",
        "        # Exclui as colunas do DataFrame\n",
        "        caged = caged.drop(columns=colunas_excluir, errors='ignore')\n",
        "\n",
        "        return caged # Retorna o DataFrame preprocessado\n",
        "    except FileNotFoundError as e:\n",
        "        print(e)\n",
        "        print(\"Trecho de código: caged = pd.read_table(arquivo_caged, sep=';')\")\n",
        "        print(\"Erro: O arquivo especificado para leitura não foi encontrado.\")\n",
        "\n",
        "    except ValueError as v:\n",
        "        print(v)\n",
        "        print(\"Trecho de código: caged = pd.read_table(arquivo_caged, sep=';')\")\n",
        "        print(\"Erro: O arquivo está vazio ou não contém dados válidos.\")\n",
        "\n",
        "    except KeyError as k:\n",
        "        print(k)\n",
        "        print( \"Erro: Uma coluna esperada não foi encontrada no DataFrame. Verifique se o arquivo de entrada possui todas as colunas necessárias.\")\n",
        "\n",
        "    except TypeError as t:\n",
        "        print(e)\n",
        "        print(\"Trecho do Código: caged['sexo'] = caged['sexo'].replace(...) (e demais linhas que usam .replace() em colunas)\")\n",
        "        print(\"Erro: O tipo de dado em uma coluna não é compatível com a operação de substituição esperada.\")"
      ],
      "metadata": {
        "id": "gGSZKQ3up08V"
      },
      "execution_count": null,
      "outputs": []
    },
    {
      "cell_type": "markdown",
      "source": [
        "Esta função **`bd_mov`** tem como objetivo principal criar ou atualizar um banco de dados SQLite com dados de múltiplos arquivos. Ela itera sobre um dicionário de arquivos, pré-processa cada um e insere seus dados em tabelas correspondentes no banco de dados."
      ],
      "metadata": {
        "id": "Kz6iiaKtxooX"
      }
    },
    {
      "cell_type": "code",
      "source": [
        "def bd_mov(nome,arquivos):\n",
        "    try:\n",
        "        conn = sqlite3.connect(nome) # Conecta ao banco de dados SQLite.\n",
        "\n",
        "        for nome_arquivo, arquivo in tqdm.tqdm(arquivos.items()): # Itera sobre os arquivos com barra de progresso.\n",
        "            df = preprocessamento(arquivo) # Pré-processa cada arquivo.\n",
        "            df.to_sql(nome_arquivo, conn, if_exists='append', index=False) # Insere DataFrame no BD.\n",
        "\n",
        "    except TypeError as t: # Captura erro de tipo.\n",
        "        print(t)\n",
        "        print(\"O nome do banco de dados deve ser uma string\")\n",
        "\n",
        "    except AttributeError as a: # Captura erro de atributo.\n",
        "        print(a)\n",
        "        print(\"O objeto 'arquivos' não possui o método 'items()'.\")\n",
        "\n",
        "    except FileNotFoundError as f: # Captura erro de arquivo não encontrado.\n",
        "        print(f)\n",
        "        print(\"O arquivo especificado para leitura não foi encontrado.\")\n",
        "\n",
        "    except ValueError as v: # Captura erro de valor.\n",
        "        print(v)\n",
        "        print(\"Falha no pré-processamento do arquivo. Verifique o conteúdo do arquivo.\")\n"
      ],
      "metadata": {
        "id": "0HK1qNELrcSW"
      },
      "execution_count": 3,
      "outputs": []
    }
  ]
}