{
  "nbformat": 4,
  "nbformat_minor": 0,
  "metadata": {
    "colab": {
      "provenance": []
    },
    "kernelspec": {
      "name": "python3",
      "display_name": "Python 3"
    },
    "language_info": {
      "name": "python"
    }
  },
  "cells": [
    {
      "cell_type": "markdown",
      "source": [
        "## importações"
      ],
      "metadata": {
        "id": "tTVsvzBvSR2q"
      }
    },
    {
      "cell_type": "code",
      "source": [
        "import pandas as pd # Importa a biblioteca pandas para manipulação de dados\n",
        "from itertools import product # Importa product para gerar combinações\n",
        "from joblib import Parallel, delayed, parallel_backend # Importa joblib para paralelização\n",
        "import tqdm # Importa tqdm para exibir barras de progresso"
      ],
      "metadata": {
        "id": "8CaCdu3ISUEQ"
      },
      "execution_count": null,
      "outputs": []
    },
    {
      "cell_type": "markdown",
      "source": [
        "## Função de ler arquivos\n"
      ],
      "metadata": {
        "id": "e5YzyDWoOZ9s"
      }
    },
    {
      "cell_type": "code",
      "source": [
        "# Unidades Federativas (UF) a serem consideradas.\n",
        "local = [\"\", \"CE\", \"PE\", \"BA\"]\n",
        "\n",
        "# Opções de gênero.\n",
        "sexo = [\"\", \"Feminino\", \"Masculino\", \"Não informado\"]\n",
        "\n",
        "# Categorias de raça/cor.\n",
        "raca_cor = [\"\", \"Branca\", \"Preta\", \"Parda\", \"Amarela\", \"Indígena\",\"Não informada\", \"Não identificado\"]\n",
        "\n",
        "# Níveis de instrução (escolaridade).\n",
        "grau_de_instrucao = [\"\", \"ANALFABETO\", \"ATE 5.A INC\", \"5.A CO FUND\", \"6. A 9. FUND\",\n",
        "\"FUND COMPL\", \"MEDIO INCOMP\", \"MEDIO COMPL\",'SUP. INCOMP', \"SUP. COMP\", \"MESTRADO\", \"DOUTORADO\"]\n",
        "\n",
        "# Faixas etárias.\n",
        "idades = [\"\", \"14 a 17\", \"18 a 24\", \"25 a 39\", \"40 a 59\", \"60 ou mais\"]"
      ],
      "metadata": {
        "id": "CbX0pXrhvwUu"
      },
      "execution_count": null,
      "outputs": []
    },
    {
      "cell_type": "code",
      "source": [
        "dic = { # Dicionário que mapeia o ano e mês de início para uma lista de meses subsequentes\n",
        "    202401.0: [\"janeiro\", \"fevereiro\", \"março\", \"abril\", \"maio\", \"junho\",\n",
        "               \"julho\", \"agosto\", \"setembro\", \"outubro\", \"novembro\", \"dezembro\"], # Meses de janeiro a dezembro\n",
        "    202402.0: [\"fevereiro\", \"março\", \"abril\", \"maio\", \"junho\",\n",
        "               \"julho\", \"agosto\", \"setembro\", \"outubro\", \"novembro\", \"dezembro\"], # Meses de fevereiro a dezembro\n",
        "    202403.0: [\"março\", \"abril\", \"maio\", \"junho\",\n",
        "               \"julho\", \"agosto\", \"setembro\", \"outubro\", \"novembro\", \"dezembro\"], # Meses de março a dezembro\n",
        "    202404.0: [\"abril\", \"maio\", \"junho\",\n",
        "               \"julho\", \"agosto\", \"setembro\", \"outubro\", \"novembro\", \"dezembro\"], # Meses de abril a dezembro\n",
        "    202405.0: [\"maio\", \"junho\",\n",
        "               \"julho\", \"agosto\", \"setembro\", \"outubro\", \"novembro\", \"dezembro\"], # Meses de maio a dezembro\n",
        "    202406.0: [\"junho\", \"julho\", \"agosto\", \"setembro\", \"outubro\", \"novembro\", \"dezembro\"], # Meses de junho a dezembro\n",
        "    202407.0: [\"julho\", \"agosto\", \"setembro\", \"outubro\", \"novembro\", \"dezembro\"], # Meses de julho a dezembro\n",
        "    202408.0: [\"agosto\", \"setembro\", \"outubro\", \"novembro\", \"dezembro\"], # Meses de agosto a dezembro\n",
        "    202409.0: [\"setembro\", \"outubro\", \"novembro\", \"dezembro\"], # Meses de setembro a dezembro\n",
        "    202410.0: [\"outubro\", \"novembro\", \"dezembro\"], # Meses de outubro a dezembro\n",
        "    202411.0: [\"novembro\", \"dezembro\"], # Meses de novembro a dezembro\n",
        "    202412.0: [\"dezembro\"] # Mês de dezembro\n",
        "}"
      ],
      "metadata": {
        "id": "jzm3GwMiPids"
      },
      "execution_count": null,
      "outputs": []
    },
    {
      "cell_type": "code",
      "source": [
        "mapeamento = { # Dicionário de mapeamento para padronizar os graus de instrução\n",
        "    '': '', # Mantém string vazia como vazia\n",
        "    'ANALFABETO': 'ANALFABETO', # Mapeia 'ANALFABETO' para 'ANALFABETO'\n",
        "    'ATE 5.A INC': 'ATE 5.A INC', # Mapeia 'ATE 5.A INC' para 'ATE 5.A INC'\n",
        "    '5.A CO FUND': '5.A CO FUND', # Mapeia '5.A CO FUND' para '5.A CO FUND'\n",
        "    '6.A.9.FUND': '6. A 9. FUND', # Mapeia '6.A.9.FUND' para '6. A 9. FUND'\n",
        "    'FUND COMPL': 'FUND COMPL', # Mapeia 'FUND COMPL' para 'FUND COMPL'\n",
        "    'MEDIO INCOMP': 'MEDIO INCOMP', # Mapeia 'MEDIO INCOMP' para 'MEDIO INCOMP'\n",
        "    'MEDIO COMPL': 'MEDIO COMPL', # Mapeia 'MEDIO COMPL' para 'MEDIO COMPL'\n",
        "    'SUP.INCOMP': 'SUP. INCOMP', # Mapeia 'SUP.INCOMP' para 'SUP. INCOMP'\n",
        "    'SUP.COMP': 'SUP. COMP', # Mapeia 'SUP.COMP' para 'SUP. COMP'\n",
        "    'MESTRADO': 'MESTRADO', # Mapeia 'MESTRADO' para 'MESTRADO'\n",
        "    'DOUTORADO': 'DOUTORADO' # Mapeia 'DOUTORADO' para 'DOUTORADO'\n",
        "}"
      ],
      "metadata": {
        "id": "lmkfydgXRlFE"
      },
      "execution_count": null,
      "outputs": []
    },
    {
      "cell_type": "code",
      "source": [
        "meses = ['janeiro','fevereiro','março','abril','maio','junho','julho','agosto','setembro','outubro','novembro','dezembro']"
      ],
      "metadata": {
        "id": "Yorc3gVAPrZN"
      },
      "execution_count": null,
      "outputs": []
    },
    {
      "cell_type": "markdown",
      "source": [
        "Este código Python define uma função chamada `carregar_arquivo` que tem como objetivo ler dados de um arquivo CSV (Comma Separated Values) e carregá-los em um DataFrame do pandas. Ele também inclui um mecanismo para lidar com o caso em que o arquivo especificado não é encontrado."
      ],
      "metadata": {
        "id": "PTQCqFTOPo2Y"
      }
    },
    {
      "cell_type": "code",
      "execution_count": null,
      "metadata": {
        "id": "KgdSpK8YN77p"
      },
      "outputs": [],
      "source": [
        "def carregar_arquivo(caminho):\n",
        "  try:\n",
        "    # Lê o arquivo CSV com separador de ponto e vírgula\n",
        "    dados = pd.read_csv(caminho, sep = ';')\n",
        "    # Retorna os dados carregados\n",
        "    return dados\n",
        "  except FileNotFoundError:\n",
        "    # Informa se o arquivo não for encontrado\n",
        "    print(f\"Arquivo não encontrado em {caminho}\")"
      ]
    },
    {
      "cell_type": "markdown",
      "source": [
        "## Tabela RAIS(estoque)"
      ],
      "metadata": {
        "id": "2qA3QY6FP4W-"
      }
    },
    {
      "cell_type": "markdown",
      "source": [
        "A função `Busca_linear_rais` percorre uma lista buscando por um item que corresponda aos critérios de local, sexo, raca, idade e gdi, retornando um valor associado ao item encontrado ou 0 caso não encontre ou ocorra um erro.\n"
      ],
      "metadata": {
        "id": "rrH24-nDRoFe"
      }
    },
    {
      "cell_type": "code",
      "source": [
        "def busca_linear_rais(lista,local,sexo,raca,idade,gdi):\n",
        "  try:\n",
        "    # Itera sobre a lista com barra de progresso\n",
        "    for i in lista:\n",
        "      # Compara os 4 primeiros elementos da sublista\n",
        "      if i[:5] == (local,sexo,raca,idade,gdi):\n",
        "        # Retorna o sexto elemento da sublista se houver correspondência\n",
        "        return i[6]\n",
        "    # Retorna 0 se nenhum item for encontrado\n",
        "    return 0\n",
        "  except:\n",
        "    # Mensagem de erro em caso de exceção\n",
        "    print(\"\")\n",
        "    print('Erro na busca pelo estoque')"
      ],
      "metadata": {
        "id": "H0HW2_xOP3ox"
      },
      "execution_count": null,
      "outputs": []
    },
    {
      "cell_type": "markdown",
      "source": [
        "A função **`RAIS`** lê um arquivo CSV específico e retorna seu conteúdo como um **DataFrame** do Pandas. Se o arquivo não for encontrado, ela informa ao usuário. A **função lambda lista_dados_rais** converte um DataFrame em uma lista de tuplas, onde cada tupla representa uma linha do DataFrame."
      ],
      "metadata": {
        "id": "eA-7C1oBAmRW"
      }
    },
    {
      "cell_type": "code",
      "source": [
        "def RAIS():\n",
        "  try:\n",
        "    # Lê o arquivo CSV\n",
        "    dados = pd.read_csv('/content/drive/MyDrive/resultado_final_estoque_rais2023.csv', sep = ';')\n",
        "    dados['sigla_uf'] = dados['sigla_uf'].str.upper() # Converte a coluna 'sigla_uf' para maiúsculas\n",
        "    dados['sexo'] = dados['sexo'].str.upper() # Converte a coluna 'sexo' para maiúsculas\n",
        "    dados['raca_cor'] = dados['raca_cor'].str.upper() # Converte a coluna 'raca_cor' para maiúsculas\n",
        "    dados['faixa_etaria'] = dados['faixa_etaria'].str.upper() # Converte a coluna 'faixa_etaria' para maiúsculas\n",
        "    dados['grau_instrucao_apos_2005'] = dados['grau_instrucao_apos_2005'].str.upper() # Converte a coluna 'grau_instrucao_apos_2005' para maiúsculas\n",
        "    return dados.fillna(\"\")\n",
        "  except FileNotFoundError:\n",
        "    # Informa se o arquivo não for encontrado\n",
        "    print(f\"Arquivo não encontrado em {caminho}\")\n",
        "\n",
        "\n",
        "# Converte DataFrame em lista de tuplas\n",
        "lista_dados_rais = lambda dados: [tuple(linha) for linha in dados.itertuples(index=False)]"
      ],
      "metadata": {
        "id": "dutxCKGNTITq"
      },
      "execution_count": null,
      "outputs": []
    },
    {
      "cell_type": "code",
      "source": [
        "# def TabelaRais():\n",
        "#     try:\n",
        "#         global dados_iter\n",
        "#         # Usa o backend 'loky' para paralelização\n",
        "#         with parallel_backend('loky'):\n",
        "#             # Executa 'executar_admissoes' em paralelo\n",
        "#             resultados = Parallel(n_jobs=-1, verbose=10)(\n",
        "#                 delayed(ExecutarRais)(x[0], x[1], x[2], x[3], x[4])\n",
        "#                 for x in dados_iter\n",
        "#             )\n",
        "#             # Retorna um DataFrame pandas com os resultados\n",
        "#             return pd.DataFrame(resultados)\n",
        "#     except:\n",
        "#         # Exibe mensagem de erro se a tabela não for criada\n",
        "#         print('Erro na criação da Tabela RAIS')"
      ],
      "metadata": {
        "id": "k5Xe_z4SOufd"
      },
      "execution_count": null,
      "outputs": []
    },
    {
      "cell_type": "markdown",
      "source": [
        "A função TabelaRais processa dados de admissões em paralelo usando o framework joblib para criar e retornar um DataFrame Pandas com os resultados, tratando possíveis erros durante a execução."
      ],
      "metadata": {
        "id": "WBLo8Hq7PUbi"
      }
    },
    {
      "cell_type": "code",
      "source": [
        "def dados_iterador() -> list:\n",
        "  iteracoes = list(product(local, sexo, raca_cor, idades, grau_de_instrucao))\n",
        "  return iteracoes\n",
        "\n",
        "  dados_iter = dados_iterador()"
      ],
      "metadata": {
        "id": "ZiqKKApZQ67q"
      },
      "execution_count": null,
      "outputs": []
    },
    {
      "cell_type": "markdown",
      "source": [
        "A função `dados_iterador` cria e retorna um iterador (na forma de uma lista) que combina todas as possíveis permutações dos elementos fornecidos pelas variáveis local, sexo, raca_cor, idades e grau_de_instrucao."
      ],
      "metadata": {
        "id": "GGhljIdn55ON"
      }
    },
    {
      "cell_type": "code",
      "source": [
        "lista = lista_dados_rais(RAIS())"
      ],
      "metadata": {
        "id": "XoPiz9CyIUfi"
      },
      "execution_count": null,
      "outputs": []
    },
    {
      "cell_type": "markdown",
      "source": [
        "A função `Tabela_Rais` processa dados de um iterador para criar um DataFrame do Pandas. Para cada item do iterador, ela busca informações usando a função busca_linear_rais e as organiza em um dicionário que é então adicionado a uma lista, resultando em um DataFrame."
      ],
      "metadata": {
        "id": "LvOIEnDX50L0"
      }
    },
    {
      "cell_type": "code",
      "source": [
        "def Tabela_Rais() -> pd.DataFrame:\n",
        "    dados = []\n",
        "    global lista # 'lista' é uma variável global\n",
        "\n",
        "    for x in tqdm.tqdm(dados_iterador()): # Itera sobre os dados e mostra o progresso\n",
        "        # Adiciona um dicionário à lista 'dados' com informações e o resultado de 'busca_linear_rais'\n",
        "        dados.append({'sigla_uf': x[0], 'sexo': x[1], 'raca': x[2], 'faixa_etaria': x[3], 'grau_instrucao': x[4],'estoque':busca_linear_rais(lista,x[0],x[1], x[2],x[3],x[4])})\n",
        "\n",
        "    return pd.DataFrame(dados) # Retorna um DataFrame pandas com os dados coletados"
      ],
      "metadata": {
        "id": "YQFRCeaGv46d"
      },
      "execution_count": null,
      "outputs": []
    },
    {
      "cell_type": "markdown",
      "source": [
        "## Tabela CAGED MOV"
      ],
      "metadata": {
        "id": "JXgHyHFU0wcm"
      }
    },
    {
      "cell_type": "code",
      "source": [
        "def cagedmov_admissoes(mes = 'janeiro') -> pd.DataFrame:\n",
        "  try:\n",
        "    # Carrega o arquivo CSV\n",
        "      dados = pd.read_csv('/content/drive/MyDrive/mov_admissoes2024.csv', sep = ';')\n",
        "      dados['graudeinstrução'] = dados['graudeinstrução'].map(mapeamento) # Aplica o mapeamento aos graus de instrução\n",
        "      dados['uf'] = dados['uf'].str.upper() # Converte a coluna 'uf' para maiúsculas\n",
        "      dados['sexo'] = dados['sexo'].str.upper() # Converte a coluna 'sexo' para maiúsculas\n",
        "      dados['raçacor'] = dados['raçacor'].str.upper() # Converte a coluna 'raçacor' para maiúsculas\n",
        "      dados['faixa_idade'] = dados['faixa_idade'].str.upper() # Converte a coluna 'faixa_idade' para maiúsculas\n",
        "      dados['graudeinstrução'] = dados['graudeinstrução'].str.upper() # Converte a coluna 'graudeinstrução' para maiúsculas\n",
        "      return dados.query(f'mes == \"{mes}\"')[['uf','sexo','raçacor','faixa_idade','graudeinstrução','admissoes']].fillna(\"\") # Filtra, seleciona colunas e preenche NaN\n",
        "  except FileNotFoundError:\n",
        "    # Mensagem de erro se o arquivo não for encontrado\n",
        "    print(f\"Arquivo não encontrado em {caminho}\")\n",
        "\n",
        "# Converte DataFrame em uma lista de tuplas\n",
        "lista_mov= lambda dados: [tuple(linha) for linha in dados.itertuples(index=False)]"
      ],
      "metadata": {
        "id": "f1GkDZJW02d0"
      },
      "execution_count": null,
      "outputs": []
    },
    {
      "cell_type": "markdown",
      "source": [
        "A função cagedmov_admissoes carrega dados de admissões de um arquivo CSV, filtra-os por um mês específico e retorna um DataFrame do Pandas com colunas selecionadas, tratando valores ausentes."
      ],
      "metadata": {
        "id": "u1PMMNEi5mie"
      }
    },
    {
      "cell_type": "code",
      "source": [
        "def cagedmov_demissao(mes = 'janeiro') -> pd.DataFrame:\n",
        "  try:\n",
        "    # Carrega o arquivo CSV\n",
        "    dados = pd.read_csv('/content/drive/MyDrive/mov_demissoes2024 (1).csv', sep = ';')\n",
        "    dados['graudeinstrução'] = dados['graudeinstrução'].map(mapeamento) # Aplica o mapeamento aos graus de instrução\n",
        "    dados['uf'] = dados['uf'].str.upper() # Converte a coluna 'uf' para maiúsculas\n",
        "    dados['sexo'] = dados['sexo'].str.upper() # Converte a coluna 'sexo' para maiúsculas\n",
        "    dados['raçacor'] = dados['raçacor'].str.upper() # Converte a coluna 'raçacor' para maiúsculas\n",
        "    dados['faixa_idade'] = dados['faixa_idade'].str.upper() # Converte a coluna 'faixa_idade' para maiúsculas\n",
        "    dados['graudeinstrução'] = dados['graudeinstrução'].str.upper() # Converte a coluna 'graudeinstrução' para maiúsculas\n",
        "    return dados.query(f'mes == \"{mes}\"')[['uf','sexo','raçacor','faixa_idade','graudeinstrução','demissoes']].fillna(\"\") # Filtra, seleciona colunas e preenche NaN\n",
        "  except FileNotFoundError as caminho:\n",
        "    # Mensagem de erro se o arquivo não for encontrado\n",
        "    print(f\"Arquivo não encontrado em {caminho}\")\n"
      ],
      "metadata": {
        "id": "2221t9dZEeGc"
      },
      "execution_count": null,
      "outputs": []
    },
    {
      "cell_type": "markdown",
      "source": [
        "O lambda lista_mov_admissoes converte um DataFrame do Pandas em uma lista de tuplas, onde cada tupla representa uma linha do DataFrame, excluindo o índice"
      ],
      "metadata": {
        "id": "rqtusTK86HZ4"
      }
    },
    {
      "cell_type": "markdown",
      "source": [
        "A função busca_linear_mov percorre uma lista de tuplas e retorna o sexto elemento da primeira tupla que corresponde aos cinco critérios de busca fornecidos (local, sexo, raça, idade, GDI); caso não encontre, retorna 0."
      ],
      "metadata": {
        "id": "m9oPMhV_5M3u"
      }
    },
    {
      "cell_type": "code",
      "source": [
        "def busca_linear_mov(lista,local,sexo,raca,idade,gdi):\n",
        "  try:\n",
        "    # Itera sobre os elementos da lista\n",
        "    for i in lista:\n",
        "      # Compara os 5 primeiros elementos da tupla\n",
        "      if i[:5] == (local,sexo,raca,idade,gdi):\n",
        "        # Retorna o sexto elemento se houver correspondência\n",
        "        return i[5]\n",
        "    # Retorna 0 se nenhum item for encontrado\n",
        "    return 0\n",
        "  except:\n",
        "    # Imprime mensagem de erro\n",
        "    print(\"\")\n",
        "    print('Erro na busca')"
      ],
      "metadata": {
        "id": "wppDnFnc3Rz9"
      },
      "execution_count": null,
      "outputs": []
    },
    {
      "cell_type": "markdown",
      "source": [
        "A função listas_mov constrói uma lista de dicionários, onde cada dicionário representa um mês e associa a ele uma lista de movimentações de admissão obtidas através de outras funções auxiliares."
      ],
      "metadata": {
        "id": "V3RcZlyaAoyW"
      }
    },
    {
      "cell_type": "code",
      "source": [
        "def listas_mov_admissoes():\n",
        "  lista = []\n",
        "  # Itera sobre cada mês na lista 'meses'\n",
        "  for mes_ in meses:\n",
        "    # Adiciona um dicionário à lista, onde a chave é o mês e o valor é a lista de admissões para aquele mês\n",
        "    lista.append({mes_:lista_mov(cagedmov_admissoes(mes_))})\n",
        "  # Retorna a lista de dicionários\n",
        "  return lista"
      ],
      "metadata": {
        "id": "j2MgYueG15A1"
      },
      "execution_count": null,
      "outputs": []
    },
    {
      "cell_type": "code",
      "source": [
        "def listas_mov_demissoes():\n",
        "  lista = []\n",
        "  # Itera sobre cada mês na lista 'meses'\n",
        "  for mes_ in meses:\n",
        "    # Adiciona um dicionário à lista, onde a chave é o mês e o valor é a lista de admissões para aquele mês\n",
        "    lista.append({mes_:lista_mov(cagedmov_demissao(mes_))})\n",
        "  # Retorna a lista de dicionários\n",
        "  return lista"
      ],
      "metadata": {
        "id": "2Tvmp3BIB0S-"
      },
      "execution_count": null,
      "outputs": []
    },
    {
      "cell_type": "markdown",
      "source": [
        "A função TabelaMOv_admissoes cria um DataFrame do pandas que sumariza dados de admissões. Ela itera sobre uma combinação de características (como sigla da UF, sexo, raça, faixa etária e grau de instrução) e, para cada combinação, realiza uma busca linear para encontrar os dados de admissão correspondentes em cada mês do ano."
      ],
      "metadata": {
        "id": "q-B9a-ZDAxUl"
      }
    },
    {
      "cell_type": "code",
      "source": [
        "def TabelaMOv_admissoes(admissoes = bool):\n",
        "  dados = []\n",
        "  # Carrega a lista de dados de movimentação\n",
        "  lista_mov = listas_mov_admissoes() if admissoes == True else listas_mov_demissoes()\n",
        "  # Obtém o iterador de dados\n",
        "  dados_iter = dados_iterador()\n",
        "\n",
        "  # Itera sobre os dados com barra de progresso\n",
        "  for x in tqdm.tqdm(dados_iter):\n",
        "      # Adiciona um dicionário à lista 'dados' para cada iteração\n",
        "      dados.append({\n",
        "          'sigla_uf': x[0],\n",
        "          'sexo': x[1],\n",
        "          'raca': x[2],\n",
        "          'faixa_etaria': x[3],\n",
        "          'grau_instrucao': x[4],\n",
        "          # Realiza a busca linear para cada mês\n",
        "          'janeiro': busca_linear_mov(lista_mov[0]['janeiro'], x[0], x[1], x[2], x[3], x[4]),\n",
        "          'fevereiro': busca_linear_mov(lista_mov[1]['fevereiro'], x[0], x[1], x[2], x[3], x[4]),\n",
        "          'março': busca_linear_mov(lista_mov[2]['março'], x[0], x[1], x[2], x[3], x[4]),\n",
        "          'abril': busca_linear_mov(lista_mov[3]['abril'], x[0], x[1], x[2], x[3], x[4]),\n",
        "          'maio': busca_linear_mov(lista_mov[4]['maio'], x[0], x[1], x[2], x[3], x[4]),\n",
        "          'junho': busca_linear_mov(lista_mov[5]['junho'], x[0], x[1], x[2], x[3], x[4]),\n",
        "          'julho': busca_linear_mov(lista_mov[6]['julho'], x[0], x[1], x[2], x[3], x[4]),\n",
        "          'agosto': busca_linear_mov(lista_mov[7]['agosto'], x[0], x[1], x[2], x[3], x[4]),\n",
        "          'setembro': busca_linear_mov(lista_mov[8]['setembro'], x[0], x[1], x[2], x[3], x[4]),\n",
        "          'outubro': busca_linear_mov(lista_mov[9]['outubro'], x[0], x[1], x[2], x[3], x[4]),\n",
        "          'novembro': busca_linear_mov(lista_mov[10]['novembro'], x[0], x[1], x[2], x[3], x[4]),\n",
        "          'dezembro': busca_linear_mov(lista_mov[11]['dezembro'], x[0], x[1], x[2], x[3], x[4])\n",
        "      })\n",
        "\n",
        "      # Retorna um DataFrame do pandas com os dados coletados\n",
        "  return pd.DataFrame(dados)"
      ],
      "metadata": {
        "id": "eOV2XpfPAJ6V"
      },
      "execution_count": null,
      "outputs": []
    },
    {
      "cell_type": "markdown",
      "source": [
        "O processo de construção da tabela de movimentações considerando apenas\n",
        "demissões será o mesmo que para admissões"
      ],
      "metadata": {
        "id": "SqZcRzQuAOns"
      }
    },
    {
      "cell_type": "markdown",
      "source": [
        "## CAGED FOR"
      ],
      "metadata": {
        "id": "ojKKKfNXIfyF"
      }
    },
    {
      "cell_type": "markdown",
      "source": [
        "\n",
        "\n",
        "**caged_for_admissoes**\n",
        "\n",
        "A função **caged_for_admissoes** lê um arquivo CSV específico, filtra os dados pelo mês fornecido e seleciona um subconjunto de colunas, preenchendo quaisquer valores ausentes com strings vazias antes de retorná-los. Se o arquivo não for encontrado, ela imprime uma mensagem de erro."
      ],
      "metadata": {
        "id": "1pR_IiX_RTqm"
      }
    },
    {
      "cell_type": "code",
      "source": [
        "def caged_for_admissoes(mes = 'janeiro'):\n",
        "  try:\n",
        "    # Carrega o arquivo CSV\n",
        "    dados = pd.read_csv('/content/drive/MyDrive/for_admissoes2024 (2).csv', sep = ';') # Lê CSV\n",
        "    # Filtra por mês e seleciona colunas específicas, preenchendo vazios\n",
        "    dados['graudeinstrução'] = dados['graudeinstrução'].map(mapeamento) # Aplica o mapeamento aos graus de instrução\n",
        "    dados['uf'] = dados['uf'].str.upper() # Converte a coluna 'uf' para maiúsculas\n",
        "    dados['sexo'] = dados['sexo'].str.upper() # Converte a coluna 'sexo' para maiúsculas\n",
        "    dados['raçacor'] = dados['raçacor'].str.upper() # Converte a coluna 'raçacor' para maiúsculas\n",
        "    dados['faixa_idade'] = dados['faixa_idade'].str.upper() # Converte a coluna 'faixa_idade' para maiúsculas\n",
        "    dados['graudeinstrução'] = dados['graudeinstrução'].str.upper() # Converte a coluna 'graudeinstrução' para maiúsculas\n",
        "    return dados.query(f'mes == \"{mes}\"')[['competênciamov','uf','sexo','raçacor','faixa_idade','graudeinstrução','admissoes']].fillna(\"\") # Filtra, seleciona colunas e preenche NaN\n",
        "  except FileNotFoundError as caminho:\n",
        "    # Mensagem de erro se o arquivo não for encontrado\n",
        "    print(f\"Arquivo não encontrado em {caminho}\") # Informa erro de arquivo não encontrado"
      ],
      "metadata": {
        "id": "KqKT0mifIjFC"
      },
      "execution_count": null,
      "outputs": []
    },
    {
      "cell_type": "markdown",
      "source": [
        "Estas são duas funções `lambda` que servem para processar dados:\n",
        "\n",
        "---\n",
        "\n",
        " **`lista_for`**\n",
        "\n",
        "A função **`lista_for`** converte um DataFrame (`dados`) em uma lista de tuplas. Cada tupla representa uma linha do DataFrame, excluindo o índice.\n",
        "\n",
        "---\n",
        "\n",
        " **`lista_comptmov`**\n",
        "\n",
        "A função **`lista_comptmov`** extrai os valores únicos da coluna `'competênciamov'` de um DataFrame (`dados`), retornando-os como uma lista."
      ],
      "metadata": {
        "id": "O7QANnF2RIqP"
      }
    },
    {
      "cell_type": "code",
      "source": [
        "lista_for = lambda dados: [tuple(linha) for linha in dados.itertuples(index=False)] # Converte DataFrame em lista de tuplas\n",
        "lista_comptmov = lambda dados: [compt for compt in dados['competênciamov'].unique()] # Extrai valores únicos da coluna 'competênciamov'"
      ],
      "metadata": {
        "id": "6eUNsUyiJMAj"
      },
      "execution_count": null,
      "outputs": []
    },
    {
      "cell_type": "code",
      "source": [
        "# def busca_linear_comptmov(lista,comptv,local,sexo,raca,idade,gdi):\n",
        "#   try:\n",
        "#     for i in lista: # Itera sobre a lista\n",
        "#       if i[:6] == (comptv,local,sexo,raca,idade,gdi): # Compara os primeiros 6 elementos da tupla\n",
        "#         return i[6] # Retorna o sétimo elemento se houver correspondência\n",
        "#     return 0 # Retorna 0 se nenhuma correspondência for encontrada\n",
        "#   except: # Captura exceções\n",
        "#     print(\"\") # Imprime linha vazia\n",
        "#     print('Erro na busca') # Imprime mensagem de erro"
      ],
      "metadata": {
        "id": "DfKpcX1vJBZ-"
      },
      "execution_count": null,
      "outputs": []
    },
    {
      "cell_type": "markdown",
      "source": [
        "Esta função busca um valor em um dicionário utilizando uma chave composta (formada por comptv, local, sexo, raca, idade, gdi) e retorna 0 se a chave não for encontrada."
      ],
      "metadata": {
        "id": "j3ZhB9LnRCAz"
      }
    },
    {
      "cell_type": "code",
      "source": [
        "def busca_linear_comptmov(dic, comptv, local, sexo, raca, idade, gdi):\n",
        "    # Retorna o valor associado à chave composta no dicionário.\n",
        "    # Se a chave não existir, retorna 0.\n",
        "    return dic.get((comptv, local, sexo, raca, idade, gdi), 0)"
      ],
      "metadata": {
        "id": "ulLhXax8ww9S"
      },
      "execution_count": null,
      "outputs": []
    },
    {
      "cell_type": "markdown",
      "source": [
        "A função **executar** constrói um dicionário para uma linha de dados de admissão, preenchendo os campos de UF, sexo, raça, idade e grau de instrução. Em seguida, a função itera sobre os meses de uma competência específica (obtida de um dicionário global `dic`) e acumula valores usando a função `busca_linear_comptmov` para cada mês. Por fim, a função retorna o dicionário preenchido com todos os dados."
      ],
      "metadata": {
        "id": "3v5xNs7TQyTc"
      }
    },
    {
      "cell_type": "code",
      "source": [
        "def executar(compts, lista, local, sexo, raca, idade, gdi):\n",
        "    # Inicializa um dicionário com os campos de identificação e meses zerados.\n",
        "    dic_linha = {\n",
        "        \"uf\": local,\n",
        "        \"sexo\": sexo,\n",
        "        \"raca\": raca,\n",
        "        \"idade\": idade,\n",
        "        \"graudeinstrucao\": gdi,\n",
        "        \"janeiro\": 0,\n",
        "        \"fevereiro\": 0,\n",
        "        \"março\": 0,\n",
        "        \"abril\": 0,\n",
        "        \"maio\": 0,\n",
        "        \"junho\": 0,\n",
        "        \"julho\": 0,\n",
        "        \"agosto\": 0,\n",
        "        \"setembro\": 0,\n",
        "        \"outubro\": 0,\n",
        "        \"novembro\": 0,\n",
        "        \"dezembro\": 0\n",
        "    }\n",
        "\n",
        "    # Separa as competências em anteriores e posteriores a janeiro de 2024.\n",
        "    compts_anteriores = [c for c in compts if c == \"\" or c <= 202401.0]\n",
        "    compts_posteriores = [c for c in compts if c != \"\" and c > 202401.0]\n",
        "\n",
        "    # Para competências anteriores, soma os valores buscando por mês de 202401.0.\n",
        "    for c in compts_anteriores:\n",
        "        for mes in dic[202401.0]:\n",
        "            dic_linha[mes] += busca_linear_comptmov(lista, c, local, sexo, raca, idade, gdi)\n",
        "\n",
        "    # Para competências posteriores, soma os valores buscando pelo mês da competência atual.\n",
        "    for c in compts_posteriores:\n",
        "        for mes in dic[c]:\n",
        "            dic_linha[mes] += busca_linear_comptmov(lista, c, local, sexo, raca, idade, gdi)\n",
        "\n",
        "    return dic_linha # Retorna o dicionário com os valores somados por mês."
      ],
      "metadata": {
        "id": "qU_iV299J8-p"
      },
      "execution_count": null,
      "outputs": []
    },
    {
      "cell_type": "code",
      "source": [
        "def Tabela_For_admissoes(mes = 'janeiro') -> dict:\n",
        "  dados = list(dados_iterador()) # Converte iterador em lista de dados\n",
        "  dict_lista = {i[:6]: i[6] for i in lista_for(caged_for_admissoes(mes= mes))}\n",
        "  compts = lista_comptmov(caged_for_admissoes(mes= mes)) # Obtém lista de competências\n",
        "  # dic deve ser global ou passado também # Comentário sobre a variável 'dic'\n",
        "\n",
        "  with parallel_backend('loky'): # Define backend de paralelização\n",
        "        resultados = Parallel(n_jobs=-1)( # Inicia processamento paralelo\n",
        "            delayed(executar)(compts,dict_lista,x[0].upper(), x[1].upper(), x[2].upper(), x[3].upper(), x[4].upper()) # Executa função com atraso\n",
        "            for x in dados\n",
        "        )\n",
        "  return pd.DataFrame(resultados) # Retorna resultados em um DataFrame"
      ],
      "metadata": {
        "id": "0Nk1QlQjr4sh"
      },
      "execution_count": null,
      "outputs": []
    },
    {
      "cell_type": "markdown",
      "source": [
        "A função `Tabela_For_admissoes` processa dados de admissões para um mês específico, utilizando processamento paralelo para criar um dicionário de DataFrames Pandas, onde cada chave representa uma competência e o valor é um DataFrame com os resultados das execuções."
      ],
      "metadata": {
        "id": "wqi4QxF0Qk-O"
      }
    },
    {
      "cell_type": "code",
      "source": [
        "def Tabela_For_admissoes_final():\n",
        "  dados = []\n",
        "\n",
        "  # Popula a lista 'dados' com todas as combinações de atributos\n",
        "  for local_ in local:\n",
        "    for sexo_ in sexo:\n",
        "      for raca_ in raca_cor:\n",
        "        for idade_ in idades:\n",
        "          for gdi_ in grau_de_instrucao:\n",
        "            dados.append({'sigla_uf': local_, 'sexo': sexo_, 'raca': raca_, 'faixa_etaria': idade_, 'grau_instrucao': gdi_})\n",
        "\n",
        "  df = pd.DataFrame(dados) # Converte a lista 'dados' em um DataFrame\n",
        "\n",
        "  # Instancia um objeto Tabela_For_admissoes para cada mês\n",
        "  janeiro = Tabela_For_admissoes(mes= 'janeiro')\n",
        "  fevereiro = Tabela_For_admissoes(mes= 'fevereiro')\n",
        "  marco = Tabela_For_admissoes(mes= 'março')\n",
        "  abril = Tabela_For_admissoes(mes= 'abril')\n",
        "  maio = Tabela_For_admissoes(mes= 'maio')\n",
        "  junho = Tabela_For_admissoes(mes= 'junho')\n",
        "  julho = Tabela_For_admissoes(mes= 'julho')\n",
        "  agosto = Tabela_For_admissoes(mes= 'agosto')\n",
        "  setembro = Tabela_For_admissoes(mes= 'setembro')\n",
        "  outubro = Tabela_For_admissoes(mes= 'outubro')\n",
        "  novembro = Tabela_For_admissoes(mes= 'novembro')\n",
        "  dezembro = Tabela_For_admissoes(mes= 'dezembro')\n",
        "\n",
        "  # Soma os valores mensais de todas as tabelas de admissões e armazena no DataFrame final\n",
        "  for mes in meses:\n",
        "    df[mes] = janeiro[mes] + fevereiro[mes] + marco[mes] + abril[mes] + maio[mes] + junho[mes] + julho[mes] + agosto[mes] + setembro[mes] + outubro[mes] + novembro[mes] + dezembro[mes]\n",
        "\n",
        "  return df # Retorna o DataFrame com as admissões consolidadas"
      ],
      "metadata": {
        "id": "h7ouKy-CR-af"
      },
      "execution_count": null,
      "outputs": []
    },
    {
      "cell_type": "markdown",
      "source": [
        "CagedFor demissões"
      ],
      "metadata": {
        "id": "q3hm_ROaAiU1"
      }
    },
    {
      "cell_type": "markdown",
      "source": [
        "Esta função `caged_for_demissoes` carrega um dataset de demissões, padroniza e trata dados de colunas específicas como grau de instrução, UF, sexo, raça/cor e faixa etária, e então retorna um subconjunto dessas informações filtrado pelo mês de competência."
      ],
      "metadata": {
        "id": "iCLDvZjYJG5k"
      }
    },
    {
      "cell_type": "code",
      "source": [
        "def caged_for_demissoes(mes = 'janeiro'):\n",
        "  try:\n",
        "    # Carrega o arquivo CSV\n",
        "    dados = pd.read_csv('/content/drive/MyDrive/for_demissoes2024 (2).csv', sep = ';') # Lê CSV\n",
        "    # Filtra por mês e seleciona colunas específicas, preenchendo vazios\n",
        "    dados['graudeinstrução'] = dados['graudeinstrução'].map(mapeamento) # Aplica o mapeamento aos graus de instrução\n",
        "    dados['uf'] = dados['uf'].str.upper() # Converte a coluna 'uf' para maiúsculas\n",
        "    dados['sexo'] = dados['sexo'].str.upper() # Converte a coluna 'sexo' para maiúsculas\n",
        "    dados['raçacor'] = dados['raçacor'].str.upper() # Converte a coluna 'raçacor' para maiúsculas\n",
        "    dados['faixa_idade'] = dados['faixa_idade'].str.upper() # Converte a coluna 'faixa_idade' para maiúsculas\n",
        "    dados['graudeinstrução'] = dados['graudeinstrução'].str.upper() # Converte a coluna 'graudeinstrução' para maiúsculas\n",
        "    return dados.query(f'mes == \"{mes}\"')[['competênciamov','uf','sexo','raçacor','faixa_idade','graudeinstrução','demissoes']].fillna(\"\") # Filtra, seleciona colunas e preenche NaN\n",
        "  except FileNotFoundError as caminho:\n",
        "    # Mensagem de erro se o arquivo não for encontrado\n",
        "    print(f\"Arquivo não encontrado em {caminho}\") # Informa erro de arquivo não encontrado"
      ],
      "metadata": {
        "id": "Ip32kgWkAheu"
      },
      "execution_count": null,
      "outputs": []
    },
    {
      "cell_type": "markdown",
      "source": [
        "Esta função `Tabela_For_demissoes` processa dados de demissões para gerar uma tabela consolidada. Ela utiliza o resultado da função `caged_for_demissoes` para criar um dicionário de mapeamento e uma lista de competências. Em seguida, executa a função auxiliar executar em paralelo para cada item de uma lista de dados, retornando os resultados em um DataFrame do Pandas."
      ],
      "metadata": {
        "id": "oOzj8RFTJNEk"
      }
    },
    {
      "cell_type": "code",
      "source": [
        "def Tabela_For_demissoes(mes = 'janeiro') -> dict:\n",
        "  dados = list(dados_iterador()) # Converte iterador em lista de dados\n",
        "  dict_lista = {i[:6]: i[6] for i in lista_for(caged_for_demissoes(mes= mes))}\n",
        "  compts = lista_comptmov(caged_for_demissoes(mes= mes)) # Obtém lista de competências\n",
        "  # dic deve ser global ou passado também # Comentário sobre a variável 'dic'\n",
        "\n",
        "  with parallel_backend('loky'): # Define backend de paralelização\n",
        "        resultados = Parallel(n_jobs=-1)( # Inicia processamento paralelo\n",
        "            delayed(executar)(compts,dict_lista,x[0].upper(), x[1].upper(), x[2].upper(), x[3].upper(), x[4].upper()) # Executa função com atraso\n",
        "            for x in dados\n",
        "        )\n",
        "  return pd.DataFrame(resultados) # Retorna resultados em um DataFrame"
      ],
      "metadata": {
        "id": "xX9IFyD0BC4a"
      },
      "execution_count": null,
      "outputs": []
    },
    {
      "cell_type": "markdown",
      "source": [
        "redator de código\n",
        "Gem personalizado\n",
        "A função Tabela_For_demissoes_final gera um DataFrame combinando dados de demissões de todos os meses do ano. Ela cria um conjunto inicial de combinações de filtros (UF, sexo, raça, idade, grau de instrução) e, para cada uma dessas combinações, soma os totais de demissões obtidos de cada mês através da função Tabela_For_demissoes. O resultado é um DataFrame final que resume as demissões anuais por essas categorias."
      ],
      "metadata": {
        "id": "pUU6XkB4Ji4y"
      }
    },
    {
      "cell_type": "code",
      "source": [
        "def Tabela_For_demissoes_final():\n",
        "  dados = []\n",
        "\n",
        "  # Preenche 'dados' com combinações de atributos\n",
        "  for local_ in local:\n",
        "    for sexo_ in sexo:\n",
        "      for raca_ in raca_cor:\n",
        "        for idade_ in idades:\n",
        "          for gdi_ in grau_de_instrucao:\n",
        "            dados.append({'sigla_uf': local_, 'sexo': sexo_, 'raca': raca_, 'faixa_etaria': idade_, 'grau_instrucao': gdi_})\n",
        "\n",
        "  df = pd.DataFrame(dados) # Converte 'dados' em DataFrame\n",
        "\n",
        "  # Instancia Tabela_For_demissoes para cada mês\n",
        "  janeiro = Tabela_For_demissoes(mes= 'janeiro')\n",
        "  fevereiro = Tabela_For_demissoes(mes= 'fevereiro')\n",
        "  marco = Tabela_For_demissoes(mes= 'março')\n",
        "  abril = Tabela_For_demissoes(mes= 'abril')\n",
        "  maio = Tabela_For_demissoes(mes= 'maio')\n",
        "  junho = Tabela_For_demissoes(mes= 'junho')\n",
        "  julho = Tabela_For_demissoes(mes= 'julho')\n",
        "  agosto = Tabela_For_demissoes(mes= 'agosto')\n",
        "  setembro = Tabela_For_demissoes(mes= 'setembro')\n",
        "  outubro = Tabela_For_demissoes(mes= 'outubro')\n",
        "  novembro = Tabela_For_demissoes(mes= 'novembro')\n",
        "  dezembro = Tabela_For_demissoes(mes= 'dezembro')\n",
        "\n",
        "  # Soma os valores mensais de cada tabela\n",
        "  for mes in tqdm.tqdm(meses):\n",
        "    df[mes] = janeiro[mes] + fevereiro[mes] + marco[mes] + abril[mes] + maio[mes] + junho[mes] + julho[mes] + agosto[mes] + setembro[mes] + outubro[mes] + novembro[mes] + dezembro[mes]\n",
        "\n",
        "  return df # Retorna o DataFrame resultante\n"
      ],
      "metadata": {
        "id": "z-y0seEfBChJ"
      },
      "execution_count": null,
      "outputs": []
    },
    {
      "cell_type": "markdown",
      "source": [
        "A função `teste_tabela_final` consolida dados de diferentes fontes (RAIS, Movimentação de Admissões/Demissões e CAGED de Admissões/Demissões) em um único DataFrame. Ela primeiro cria um DataFrame base com todas as combinações de UF, sexo, raça, faixa etária e grau de instrução. Em seguida, para cada mês, calcula o estoque de empregos somando e subtraindo os dados das tabelas de admissões e demissões correspondentes."
      ],
      "metadata": {
        "id": "Lwv7AIrAJwMD"
      }
    },
    {
      "cell_type": "code",
      "source": [
        "def teste_tabela_final():\n",
        "  dados = []\n",
        "\n",
        "  # Itera sobre combinações de filtros e adiciona ao DataFrame\n",
        "  for local_ in local:\n",
        "    for sexo_ in sexo:\n",
        "      for raca_ in raca_cor:\n",
        "        for idade_ in idades:\n",
        "          for gdi_ in grau_de_instrucao:\n",
        "            dados.append({'sigla_uf': local_, 'sexo': sexo_, 'raca': raca_, 'faixa_etaria': idade_, 'grau_instrucao': gdi_})\n",
        "  df = pd.DataFrame(dados) # Cria DataFrame com os dados\n",
        "\n",
        "  # Instancia classes de tabelas\n",
        "  rais = Tabela_Rais()\n",
        "  mov_admissoes = TabelaMOv_admissoes(admissoes = True)\n",
        "  mov_demissoes = TabelaMOv_admissoes(admissoes = False)\n",
        "  for_admissoes = Tabela_For_admissoes_final()\n",
        "  for_demissoes = Tabela_For_demissoes_final()\n",
        "\n",
        "  # Calcula valor mensal para cada combinação de filtros\n",
        "  for mes_ in meses:\n",
        "    df[mes_] = rais['estoque'] + mov_admissoes[mes_] - mov_demissoes[mes_] + for_admissoes[mes_] - for_demissoes[mes_]\n",
        "\n",
        "  return df # Retorna o DataFrame final"
      ],
      "metadata": {
        "id": "0_y4AuwmQIDK"
      },
      "execution_count": null,
      "outputs": []
    },
    {
      "cell_type": "markdown",
      "source": [
        "## Caged EXC"
      ],
      "metadata": {
        "id": "ckrjEeyXB-Tb"
      }
    },
    {
      "cell_type": "markdown",
      "source": [
        "A função **caged_exc_admissoes** lê um arquivo CSV de dados de admissões, filtra esses dados pelo mês especificado e padroniza o formato de diversas colunas relacionadas a características demográficas e de escolaridade, retornando um DataFrame com as colunas selecionadas e sem valores nulos."
      ],
      "metadata": {
        "id": "8aMK-fNQR9_y"
      }
    },
    {
      "cell_type": "code",
      "source": [
        "def caged_exc_admissoes(mes = 'janeiro'):\n",
        "  try:\n",
        "    # Carrega o arquivo CSV\n",
        "    dados = pd.read_csv('/content/drive/MyDrive/exc_admissoes2024 (1).csv', sep = ';') # Lê CSV\n",
        "    # Filtra por mês e seleciona colunas específicas, preenchendo vazios\n",
        "    dados['graudeinstrução'] = dados['graudeinstrução'].map(mapeamento) # Aplica o mapeamento aos graus de instrução\n",
        "    dados['uf'] = dados['uf'].str.upper() # Converte a coluna 'uf' para maiúsculas\n",
        "    dados['sexo'] = dados['sexo'].str.upper() # Converte a coluna 'sexo' para maiúsculas\n",
        "    dados['raçacor'] = dados['raçacor'].str.upper() # Converte a coluna 'raçacor' para maiúsculas\n",
        "    dados['faixa_idade'] = dados['faixa_idade'].str.upper() # Converte a coluna 'faixa_idade' para maiúsculas\n",
        "    dados['graudeinstrução'] = dados['graudeinstrução'].str.upper() # Converte a coluna 'graudeinstrução' para maiúsculas\n",
        "    return dados.query(f'mes == \"{mes}\"')[['competênciamov','uf','sexo','raçacor','faixa_idade','graudeinstrução','admissoes']].fillna(\"\") # Filtra, seleciona colunas e preenche NaN\n",
        "  except FileNotFoundError as caminho:\n",
        "    # Mensagem de erro se o arquivo não for encontrado\n",
        "    print(f\"Arquivo não encontrado em {caminho}\") # Informa erro de arquivo não encontrado"
      ],
      "metadata": {
        "id": "u8hgPTS2B9j8"
      },
      "execution_count": null,
      "outputs": []
    },
    {
      "cell_type": "markdown",
      "source": [
        "A função **caged_exc_demissoes** lê um arquivo CSV de dados de demissões, filtra esses dados pelo mês especificado e padroniza o formato de diversas colunas relacionadas a características demográficas e de escolaridade, retornando um DataFrame com as colunas selecionadas e sem valores nulos."
      ],
      "metadata": {
        "id": "aUGo4d_fSIHb"
      }
    },
    {
      "cell_type": "code",
      "source": [
        "def caged_exc_demissoes(mes = 'janeiro'):\n",
        "  try:\n",
        "    # Carrega o arquivo CSV\n",
        "    dados = pd.read_csv('/content/drive/MyDrive/exc_demissoes2024 (1).csv', sep = ';') # Lê CSV\n",
        "    # Filtra por mês e seleciona colunas específicas, preenchendo vazios\n",
        "    dados['graudeinstrução'] = dados['graudeinstrução'].map(mapeamento) # Aplica o mapeamento aos graus de instrução\n",
        "    dados['uf'] = dados['uf'].str.upper() # Converte a coluna 'uf' para maiúsculas\n",
        "    dados['sexo'] = dados['sexo'].str.upper() # Converte a coluna 'sexo' para maiúsculas\n",
        "    dados['raçacor'] = dados['raçacor'].str.upper() # Converte a coluna 'raçacor' para maiúsculas\n",
        "    dados['faixa_idade'] = dados['faixa_idade'].str.upper() # Converte a coluna 'faixa_idade' para maiúsculas\n",
        "    dados['graudeinstrução'] = dados['graudeinstrução'].str.upper() # Converte a coluna 'graudeinstrução' para maiúsculas\n",
        "    return dados.query(f'mes == \"{mes}\"')[['competênciamov','uf','sexo','raçacor','faixa_idade','graudeinstrução','demissoes']].fillna(\"\") # Filtra, seleciona colunas e preenche NaN\n",
        "  except FileNotFoundError as caminho:\n",
        "    # Mensagem de erro se o arquivo não for encontrado\n",
        "    print(f\"Arquivo não encontrado em {caminho}\") # Informa erro de arquivo não encontrado"
      ],
      "metadata": {
        "id": "zd6Nwb1wC1Wp"
      },
      "execution_count": null,
      "outputs": []
    },
    {
      "cell_type": "markdown",
      "source": [
        "A função **Tabela_exc** processa dados de admissões ou demissões de forma paralela. Ela recebe uma função (`funcao`) para obter os dados de um mês específico, organiza esses dados em dicionários e listas, e então executa uma função auxiliar (`executar`) em paralelo para cada item de um conjunto de dados, retornando os resultados em um DataFrame."
      ],
      "metadata": {
        "id": "juAyVa6tSP3s"
      }
    },
    {
      "cell_type": "code",
      "source": [
        "def Tabela_exc(funcao,mes = 'janeiro', ) -> dict:\n",
        "  dados = list(dados_iterador()) # Converte iterador em lista de dados\n",
        "  dict_lista = {i[:6]: i[6] for i in lista_for(funcao(mes= mes))}\n",
        "  compts = lista_comptmov(funcao(mes= mes)) # Obtém lista de competências\n",
        "  # dic deve ser global ou passado também # Comentário sobre a variável 'dic'\n",
        "\n",
        "  with parallel_backend('loky'): # Define backend de paralelização\n",
        "        resultados = Parallel(n_jobs=-1)( # Inicia processamento paralelo\n",
        "            delayed(executar)(compts,dict_lista,x[0].upper(), x[1].upper(), x[2].upper(), x[3].upper(), x[4].upper()) # Executa função com atraso\n",
        "            for x in dados\n",
        "        )\n",
        "  return pd.DataFrame(resultados) # Retorna resultados em um DataFrame"
      ],
      "metadata": {
        "id": "gaCUcALzCN-b"
      },
      "execution_count": null,
      "outputs": []
    },
    {
      "cell_type": "markdown",
      "source": [
        "A função **tabela_exc_final** consolida dados de admissões ou demissões ao longo do ano. Ela cria um DataFrame base com combinações de características demográficas e de instrução, e então popula esse DataFrame com os totais mensais, somando os dados de cada mês obtidos através da função `Tabela_exc` para cada tipo de movimentação."
      ],
      "metadata": {
        "id": "z3YcMgz0SXIe"
      }
    },
    {
      "cell_type": "code",
      "source": [
        "def tabela_exc_final(funcao) -> dict:\n",
        "  dados = []\n",
        "  for local_ in local:\n",
        "    for sexo_ in sexo:\n",
        "      for raca_ in raca_cor:\n",
        "        for idade_ in idades:\n",
        "          for gdi_ in grau_de_instrucao:\n",
        "            dados.append({'sigla_uf': local_, 'sexo': sexo_, 'raca': raca_, 'faixa_etaria': idade_, 'grau_instrucao': gdi_})\n",
        "  df = pd.DataFrame(dados)\n",
        "  janeiro = Tabela_exc(funcao = funcao, mes= 'janeiro')\n",
        "  fevereiro = Tabela_exc(funcao = funcao, mes= 'fevereiro')\n",
        "  marco = Tabela_exc(funcao = funcao, mes= 'março')\n",
        "  abril = Tabela_exc(funcao = funcao, mes= 'abril')\n",
        "  maio = Tabela_exc(funcao = funcao, mes= 'maio')\n",
        "  junho = Tabela_exc(funcao = funcao, mes= 'junho')\n",
        "  julho = Tabela_exc(funcao = funcao, mes= 'julho')\n",
        "  agosto = Tabela_exc(funcao = funcao, mes= 'agosto')\n",
        "  setembro = Tabela_exc(funcao = funcao, mes= 'setembro')\n",
        "  outubro = Tabela_exc(funcao = funcao, mes= 'outubro')\n",
        "  novembro = Tabela_exc(funcao = funcao, mes= 'novembro')\n",
        "  dezembro = Tabela_exc(funcao = funcao, mes= 'dezembro')\n",
        "  for mes in tqdm.tqdm(meses):\n",
        "    df[mes] = janeiro[mes] + fevereiro[mes] + marco[mes] + abril[mes] + maio[mes] + junho[mes] + julho[mes] + agosto[mes] + setembro[mes] + outubro[mes] + novembro[mes] + dezembro[mes]\n",
        "  return df\n"
      ],
      "metadata": {
        "id": "UT5Kb2Z-DJ5e"
      },
      "execution_count": null,
      "outputs": []
    },
    {
      "cell_type": "code",
      "source": [
        "tabela_exc_final(funcao = caged_exc_admissoes)"
      ],
      "metadata": {
        "id": "kyy2YjaZDRKd",
        "colab": {
          "base_uri": "https://localhost:8080/",
          "height": 548
        },
        "outputId": "1d325604-a6ce-4365-cfee-c35ca9981348"
      },
      "execution_count": null,
      "outputs": [
        {
          "output_type": "stream",
          "name": "stderr",
          "text": [
            "100%|██████████| 12/12 [00:00<00:00, 288.09it/s]\n"
          ]
        },
        {
          "output_type": "execute_result",
          "data": {
            "text/plain": [
              "     sigla_uf           sexo              raca faixa_etaria grau_instrucao  \\\n",
              "0                                                                            \n",
              "1                                                               ANALFABETO   \n",
              "2                                                              ATE 5.A INC   \n",
              "3                                                              5.A CO FUND   \n",
              "4                                                             6. A 9. FUND   \n",
              "...       ...            ...               ...          ...            ...   \n",
              "9211       BA  Não informado  Não identificado   60 ou mais    MEDIO COMPL   \n",
              "9212       BA  Não informado  Não identificado   60 ou mais    SUP. INCOMP   \n",
              "9213       BA  Não informado  Não identificado   60 ou mais      SUP. COMP   \n",
              "9214       BA  Não informado  Não identificado   60 ou mais       MESTRADO   \n",
              "9215       BA  Não informado  Não identificado   60 ou mais      DOUTORADO   \n",
              "\n",
              "      janeiro  fevereiro  março  abril   maio  junho  julho  agosto  setembro  \\\n",
              "0       60831      61550  63858  65692  66980  67977  68245   68617     68945   \n",
              "1         357        372    390    413    421    425    433     437       442   \n",
              "2         224        254    272    292    312    335    359     374       386   \n",
              "3         255        279    302    321    336    348    364     375       388   \n",
              "4         645        699    769    816    853    894    927     972      1007   \n",
              "...       ...        ...    ...    ...    ...    ...    ...     ...       ...   \n",
              "9211        0          0      0      0      0      0      0       0         0   \n",
              "9212        0          0      0      0      0      0      0       0         0   \n",
              "9213        0          0      0      0      0      0      0       0         0   \n",
              "9214        0          0      0      0      0      0      0       0         0   \n",
              "9215        0          0      0      0      0      0      0       0         0   \n",
              "\n",
              "      outubro  novembro  dezembro  \n",
              "0       68952     68954     68954  \n",
              "1         450       457       457  \n",
              "2         396       400       400  \n",
              "3         399       407       407  \n",
              "4        1058      1069      1069  \n",
              "...       ...       ...       ...  \n",
              "9211        0         0         0  \n",
              "9212        0         0         0  \n",
              "9213        0         0         0  \n",
              "9214        0         0         0  \n",
              "9215        0         0         0  \n",
              "\n",
              "[9216 rows x 17 columns]"
            ],
            "text/html": [
              "\n",
              "  <div id=\"df-4c335625-72e2-4d6c-8472-57521e6c2f16\" class=\"colab-df-container\">\n",
              "    <div>\n",
              "<style scoped>\n",
              "    .dataframe tbody tr th:only-of-type {\n",
              "        vertical-align: middle;\n",
              "    }\n",
              "\n",
              "    .dataframe tbody tr th {\n",
              "        vertical-align: top;\n",
              "    }\n",
              "\n",
              "    .dataframe thead th {\n",
              "        text-align: right;\n",
              "    }\n",
              "</style>\n",
              "<table border=\"1\" class=\"dataframe\">\n",
              "  <thead>\n",
              "    <tr style=\"text-align: right;\">\n",
              "      <th></th>\n",
              "      <th>sigla_uf</th>\n",
              "      <th>sexo</th>\n",
              "      <th>raca</th>\n",
              "      <th>faixa_etaria</th>\n",
              "      <th>grau_instrucao</th>\n",
              "      <th>janeiro</th>\n",
              "      <th>fevereiro</th>\n",
              "      <th>março</th>\n",
              "      <th>abril</th>\n",
              "      <th>maio</th>\n",
              "      <th>junho</th>\n",
              "      <th>julho</th>\n",
              "      <th>agosto</th>\n",
              "      <th>setembro</th>\n",
              "      <th>outubro</th>\n",
              "      <th>novembro</th>\n",
              "      <th>dezembro</th>\n",
              "    </tr>\n",
              "  </thead>\n",
              "  <tbody>\n",
              "    <tr>\n",
              "      <th>0</th>\n",
              "      <td></td>\n",
              "      <td></td>\n",
              "      <td></td>\n",
              "      <td></td>\n",
              "      <td></td>\n",
              "      <td>60831</td>\n",
              "      <td>61550</td>\n",
              "      <td>63858</td>\n",
              "      <td>65692</td>\n",
              "      <td>66980</td>\n",
              "      <td>67977</td>\n",
              "      <td>68245</td>\n",
              "      <td>68617</td>\n",
              "      <td>68945</td>\n",
              "      <td>68952</td>\n",
              "      <td>68954</td>\n",
              "      <td>68954</td>\n",
              "    </tr>\n",
              "    <tr>\n",
              "      <th>1</th>\n",
              "      <td></td>\n",
              "      <td></td>\n",
              "      <td></td>\n",
              "      <td></td>\n",
              "      <td>ANALFABETO</td>\n",
              "      <td>357</td>\n",
              "      <td>372</td>\n",
              "      <td>390</td>\n",
              "      <td>413</td>\n",
              "      <td>421</td>\n",
              "      <td>425</td>\n",
              "      <td>433</td>\n",
              "      <td>437</td>\n",
              "      <td>442</td>\n",
              "      <td>450</td>\n",
              "      <td>457</td>\n",
              "      <td>457</td>\n",
              "    </tr>\n",
              "    <tr>\n",
              "      <th>2</th>\n",
              "      <td></td>\n",
              "      <td></td>\n",
              "      <td></td>\n",
              "      <td></td>\n",
              "      <td>ATE 5.A INC</td>\n",
              "      <td>224</td>\n",
              "      <td>254</td>\n",
              "      <td>272</td>\n",
              "      <td>292</td>\n",
              "      <td>312</td>\n",
              "      <td>335</td>\n",
              "      <td>359</td>\n",
              "      <td>374</td>\n",
              "      <td>386</td>\n",
              "      <td>396</td>\n",
              "      <td>400</td>\n",
              "      <td>400</td>\n",
              "    </tr>\n",
              "    <tr>\n",
              "      <th>3</th>\n",
              "      <td></td>\n",
              "      <td></td>\n",
              "      <td></td>\n",
              "      <td></td>\n",
              "      <td>5.A CO FUND</td>\n",
              "      <td>255</td>\n",
              "      <td>279</td>\n",
              "      <td>302</td>\n",
              "      <td>321</td>\n",
              "      <td>336</td>\n",
              "      <td>348</td>\n",
              "      <td>364</td>\n",
              "      <td>375</td>\n",
              "      <td>388</td>\n",
              "      <td>399</td>\n",
              "      <td>407</td>\n",
              "      <td>407</td>\n",
              "    </tr>\n",
              "    <tr>\n",
              "      <th>4</th>\n",
              "      <td></td>\n",
              "      <td></td>\n",
              "      <td></td>\n",
              "      <td></td>\n",
              "      <td>6. A 9. FUND</td>\n",
              "      <td>645</td>\n",
              "      <td>699</td>\n",
              "      <td>769</td>\n",
              "      <td>816</td>\n",
              "      <td>853</td>\n",
              "      <td>894</td>\n",
              "      <td>927</td>\n",
              "      <td>972</td>\n",
              "      <td>1007</td>\n",
              "      <td>1058</td>\n",
              "      <td>1069</td>\n",
              "      <td>1069</td>\n",
              "    </tr>\n",
              "    <tr>\n",
              "      <th>...</th>\n",
              "      <td>...</td>\n",
              "      <td>...</td>\n",
              "      <td>...</td>\n",
              "      <td>...</td>\n",
              "      <td>...</td>\n",
              "      <td>...</td>\n",
              "      <td>...</td>\n",
              "      <td>...</td>\n",
              "      <td>...</td>\n",
              "      <td>...</td>\n",
              "      <td>...</td>\n",
              "      <td>...</td>\n",
              "      <td>...</td>\n",
              "      <td>...</td>\n",
              "      <td>...</td>\n",
              "      <td>...</td>\n",
              "      <td>...</td>\n",
              "    </tr>\n",
              "    <tr>\n",
              "      <th>9211</th>\n",
              "      <td>BA</td>\n",
              "      <td>Não informado</td>\n",
              "      <td>Não identificado</td>\n",
              "      <td>60 ou mais</td>\n",
              "      <td>MEDIO COMPL</td>\n",
              "      <td>0</td>\n",
              "      <td>0</td>\n",
              "      <td>0</td>\n",
              "      <td>0</td>\n",
              "      <td>0</td>\n",
              "      <td>0</td>\n",
              "      <td>0</td>\n",
              "      <td>0</td>\n",
              "      <td>0</td>\n",
              "      <td>0</td>\n",
              "      <td>0</td>\n",
              "      <td>0</td>\n",
              "    </tr>\n",
              "    <tr>\n",
              "      <th>9212</th>\n",
              "      <td>BA</td>\n",
              "      <td>Não informado</td>\n",
              "      <td>Não identificado</td>\n",
              "      <td>60 ou mais</td>\n",
              "      <td>SUP. INCOMP</td>\n",
              "      <td>0</td>\n",
              "      <td>0</td>\n",
              "      <td>0</td>\n",
              "      <td>0</td>\n",
              "      <td>0</td>\n",
              "      <td>0</td>\n",
              "      <td>0</td>\n",
              "      <td>0</td>\n",
              "      <td>0</td>\n",
              "      <td>0</td>\n",
              "      <td>0</td>\n",
              "      <td>0</td>\n",
              "    </tr>\n",
              "    <tr>\n",
              "      <th>9213</th>\n",
              "      <td>BA</td>\n",
              "      <td>Não informado</td>\n",
              "      <td>Não identificado</td>\n",
              "      <td>60 ou mais</td>\n",
              "      <td>SUP. COMP</td>\n",
              "      <td>0</td>\n",
              "      <td>0</td>\n",
              "      <td>0</td>\n",
              "      <td>0</td>\n",
              "      <td>0</td>\n",
              "      <td>0</td>\n",
              "      <td>0</td>\n",
              "      <td>0</td>\n",
              "      <td>0</td>\n",
              "      <td>0</td>\n",
              "      <td>0</td>\n",
              "      <td>0</td>\n",
              "    </tr>\n",
              "    <tr>\n",
              "      <th>9214</th>\n",
              "      <td>BA</td>\n",
              "      <td>Não informado</td>\n",
              "      <td>Não identificado</td>\n",
              "      <td>60 ou mais</td>\n",
              "      <td>MESTRADO</td>\n",
              "      <td>0</td>\n",
              "      <td>0</td>\n",
              "      <td>0</td>\n",
              "      <td>0</td>\n",
              "      <td>0</td>\n",
              "      <td>0</td>\n",
              "      <td>0</td>\n",
              "      <td>0</td>\n",
              "      <td>0</td>\n",
              "      <td>0</td>\n",
              "      <td>0</td>\n",
              "      <td>0</td>\n",
              "    </tr>\n",
              "    <tr>\n",
              "      <th>9215</th>\n",
              "      <td>BA</td>\n",
              "      <td>Não informado</td>\n",
              "      <td>Não identificado</td>\n",
              "      <td>60 ou mais</td>\n",
              "      <td>DOUTORADO</td>\n",
              "      <td>0</td>\n",
              "      <td>0</td>\n",
              "      <td>0</td>\n",
              "      <td>0</td>\n",
              "      <td>0</td>\n",
              "      <td>0</td>\n",
              "      <td>0</td>\n",
              "      <td>0</td>\n",
              "      <td>0</td>\n",
              "      <td>0</td>\n",
              "      <td>0</td>\n",
              "      <td>0</td>\n",
              "    </tr>\n",
              "  </tbody>\n",
              "</table>\n",
              "<p>9216 rows × 17 columns</p>\n",
              "</div>\n",
              "    <div class=\"colab-df-buttons\">\n",
              "\n",
              "  <div class=\"colab-df-container\">\n",
              "    <button class=\"colab-df-convert\" onclick=\"convertToInteractive('df-4c335625-72e2-4d6c-8472-57521e6c2f16')\"\n",
              "            title=\"Convert this dataframe to an interactive table.\"\n",
              "            style=\"display:none;\">\n",
              "\n",
              "  <svg xmlns=\"http://www.w3.org/2000/svg\" height=\"24px\" viewBox=\"0 -960 960 960\">\n",
              "    <path d=\"M120-120v-720h720v720H120Zm60-500h600v-160H180v160Zm220 220h160v-160H400v160Zm0 220h160v-160H400v160ZM180-400h160v-160H180v160Zm440 0h160v-160H620v160ZM180-180h160v-160H180v160Zm440 0h160v-160H620v160Z\"/>\n",
              "  </svg>\n",
              "    </button>\n",
              "\n",
              "  <style>\n",
              "    .colab-df-container {\n",
              "      display:flex;\n",
              "      gap: 12px;\n",
              "    }\n",
              "\n",
              "    .colab-df-convert {\n",
              "      background-color: #E8F0FE;\n",
              "      border: none;\n",
              "      border-radius: 50%;\n",
              "      cursor: pointer;\n",
              "      display: none;\n",
              "      fill: #1967D2;\n",
              "      height: 32px;\n",
              "      padding: 0 0 0 0;\n",
              "      width: 32px;\n",
              "    }\n",
              "\n",
              "    .colab-df-convert:hover {\n",
              "      background-color: #E2EBFA;\n",
              "      box-shadow: 0px 1px 2px rgba(60, 64, 67, 0.3), 0px 1px 3px 1px rgba(60, 64, 67, 0.15);\n",
              "      fill: #174EA6;\n",
              "    }\n",
              "\n",
              "    .colab-df-buttons div {\n",
              "      margin-bottom: 4px;\n",
              "    }\n",
              "\n",
              "    [theme=dark] .colab-df-convert {\n",
              "      background-color: #3B4455;\n",
              "      fill: #D2E3FC;\n",
              "    }\n",
              "\n",
              "    [theme=dark] .colab-df-convert:hover {\n",
              "      background-color: #434B5C;\n",
              "      box-shadow: 0px 1px 3px 1px rgba(0, 0, 0, 0.15);\n",
              "      filter: drop-shadow(0px 1px 2px rgba(0, 0, 0, 0.3));\n",
              "      fill: #FFFFFF;\n",
              "    }\n",
              "  </style>\n",
              "\n",
              "    <script>\n",
              "      const buttonEl =\n",
              "        document.querySelector('#df-4c335625-72e2-4d6c-8472-57521e6c2f16 button.colab-df-convert');\n",
              "      buttonEl.style.display =\n",
              "        google.colab.kernel.accessAllowed ? 'block' : 'none';\n",
              "\n",
              "      async function convertToInteractive(key) {\n",
              "        const element = document.querySelector('#df-4c335625-72e2-4d6c-8472-57521e6c2f16');\n",
              "        const dataTable =\n",
              "          await google.colab.kernel.invokeFunction('convertToInteractive',\n",
              "                                                    [key], {});\n",
              "        if (!dataTable) return;\n",
              "\n",
              "        const docLinkHtml = 'Like what you see? Visit the ' +\n",
              "          '<a target=\"_blank\" href=https://colab.research.google.com/notebooks/data_table.ipynb>data table notebook</a>'\n",
              "          + ' to learn more about interactive tables.';\n",
              "        element.innerHTML = '';\n",
              "        dataTable['output_type'] = 'display_data';\n",
              "        await google.colab.output.renderOutput(dataTable, element);\n",
              "        const docLink = document.createElement('div');\n",
              "        docLink.innerHTML = docLinkHtml;\n",
              "        element.appendChild(docLink);\n",
              "      }\n",
              "    </script>\n",
              "  </div>\n",
              "\n",
              "\n",
              "    <div id=\"df-94dfe603-d069-4eb9-8b5b-25907a363476\">\n",
              "      <button class=\"colab-df-quickchart\" onclick=\"quickchart('df-94dfe603-d069-4eb9-8b5b-25907a363476')\"\n",
              "                title=\"Suggest charts\"\n",
              "                style=\"display:none;\">\n",
              "\n",
              "<svg xmlns=\"http://www.w3.org/2000/svg\" height=\"24px\"viewBox=\"0 0 24 24\"\n",
              "     width=\"24px\">\n",
              "    <g>\n",
              "        <path d=\"M19 3H5c-1.1 0-2 .9-2 2v14c0 1.1.9 2 2 2h14c1.1 0 2-.9 2-2V5c0-1.1-.9-2-2-2zM9 17H7v-7h2v7zm4 0h-2V7h2v10zm4 0h-2v-4h2v4z\"/>\n",
              "    </g>\n",
              "</svg>\n",
              "      </button>\n",
              "\n",
              "<style>\n",
              "  .colab-df-quickchart {\n",
              "      --bg-color: #E8F0FE;\n",
              "      --fill-color: #1967D2;\n",
              "      --hover-bg-color: #E2EBFA;\n",
              "      --hover-fill-color: #174EA6;\n",
              "      --disabled-fill-color: #AAA;\n",
              "      --disabled-bg-color: #DDD;\n",
              "  }\n",
              "\n",
              "  [theme=dark] .colab-df-quickchart {\n",
              "      --bg-color: #3B4455;\n",
              "      --fill-color: #D2E3FC;\n",
              "      --hover-bg-color: #434B5C;\n",
              "      --hover-fill-color: #FFFFFF;\n",
              "      --disabled-bg-color: #3B4455;\n",
              "      --disabled-fill-color: #666;\n",
              "  }\n",
              "\n",
              "  .colab-df-quickchart {\n",
              "    background-color: var(--bg-color);\n",
              "    border: none;\n",
              "    border-radius: 50%;\n",
              "    cursor: pointer;\n",
              "    display: none;\n",
              "    fill: var(--fill-color);\n",
              "    height: 32px;\n",
              "    padding: 0;\n",
              "    width: 32px;\n",
              "  }\n",
              "\n",
              "  .colab-df-quickchart:hover {\n",
              "    background-color: var(--hover-bg-color);\n",
              "    box-shadow: 0 1px 2px rgba(60, 64, 67, 0.3), 0 1px 3px 1px rgba(60, 64, 67, 0.15);\n",
              "    fill: var(--button-hover-fill-color);\n",
              "  }\n",
              "\n",
              "  .colab-df-quickchart-complete:disabled,\n",
              "  .colab-df-quickchart-complete:disabled:hover {\n",
              "    background-color: var(--disabled-bg-color);\n",
              "    fill: var(--disabled-fill-color);\n",
              "    box-shadow: none;\n",
              "  }\n",
              "\n",
              "  .colab-df-spinner {\n",
              "    border: 2px solid var(--fill-color);\n",
              "    border-color: transparent;\n",
              "    border-bottom-color: var(--fill-color);\n",
              "    animation:\n",
              "      spin 1s steps(1) infinite;\n",
              "  }\n",
              "\n",
              "  @keyframes spin {\n",
              "    0% {\n",
              "      border-color: transparent;\n",
              "      border-bottom-color: var(--fill-color);\n",
              "      border-left-color: var(--fill-color);\n",
              "    }\n",
              "    20% {\n",
              "      border-color: transparent;\n",
              "      border-left-color: var(--fill-color);\n",
              "      border-top-color: var(--fill-color);\n",
              "    }\n",
              "    30% {\n",
              "      border-color: transparent;\n",
              "      border-left-color: var(--fill-color);\n",
              "      border-top-color: var(--fill-color);\n",
              "      border-right-color: var(--fill-color);\n",
              "    }\n",
              "    40% {\n",
              "      border-color: transparent;\n",
              "      border-right-color: var(--fill-color);\n",
              "      border-top-color: var(--fill-color);\n",
              "    }\n",
              "    60% {\n",
              "      border-color: transparent;\n",
              "      border-right-color: var(--fill-color);\n",
              "    }\n",
              "    80% {\n",
              "      border-color: transparent;\n",
              "      border-right-color: var(--fill-color);\n",
              "      border-bottom-color: var(--fill-color);\n",
              "    }\n",
              "    90% {\n",
              "      border-color: transparent;\n",
              "      border-bottom-color: var(--fill-color);\n",
              "    }\n",
              "  }\n",
              "</style>\n",
              "\n",
              "      <script>\n",
              "        async function quickchart(key) {\n",
              "          const quickchartButtonEl =\n",
              "            document.querySelector('#' + key + ' button');\n",
              "          quickchartButtonEl.disabled = true;  // To prevent multiple clicks.\n",
              "          quickchartButtonEl.classList.add('colab-df-spinner');\n",
              "          try {\n",
              "            const charts = await google.colab.kernel.invokeFunction(\n",
              "                'suggestCharts', [key], {});\n",
              "          } catch (error) {\n",
              "            console.error('Error during call to suggestCharts:', error);\n",
              "          }\n",
              "          quickchartButtonEl.classList.remove('colab-df-spinner');\n",
              "          quickchartButtonEl.classList.add('colab-df-quickchart-complete');\n",
              "        }\n",
              "        (() => {\n",
              "          let quickchartButtonEl =\n",
              "            document.querySelector('#df-94dfe603-d069-4eb9-8b5b-25907a363476 button');\n",
              "          quickchartButtonEl.style.display =\n",
              "            google.colab.kernel.accessAllowed ? 'block' : 'none';\n",
              "        })();\n",
              "      </script>\n",
              "    </div>\n",
              "\n",
              "    </div>\n",
              "  </div>\n"
            ],
            "application/vnd.google.colaboratory.intrinsic+json": {
              "type": "dataframe",
              "summary": "{\n  \"name\": \"tabela_exc_final(funcao = caged_exc_admissoes)\",\n  \"rows\": 9216,\n  \"fields\": [\n    {\n      \"column\": \"sigla_uf\",\n      \"properties\": {\n        \"dtype\": \"category\",\n        \"num_unique_values\": 4,\n        \"samples\": [\n          \"CE\",\n          \"BA\",\n          \"\"\n        ],\n        \"semantic_type\": \"\",\n        \"description\": \"\"\n      }\n    },\n    {\n      \"column\": \"sexo\",\n      \"properties\": {\n        \"dtype\": \"category\",\n        \"num_unique_values\": 4,\n        \"samples\": [\n          \"Feminino\",\n          \"N\\u00e3o informado\",\n          \"\"\n        ],\n        \"semantic_type\": \"\",\n        \"description\": \"\"\n      }\n    },\n    {\n      \"column\": \"raca\",\n      \"properties\": {\n        \"dtype\": \"category\",\n        \"num_unique_values\": 8,\n        \"samples\": [\n          \"Branca\",\n          \"Ind\\u00edgena\",\n          \"\"\n        ],\n        \"semantic_type\": \"\",\n        \"description\": \"\"\n      }\n    },\n    {\n      \"column\": \"faixa_etaria\",\n      \"properties\": {\n        \"dtype\": \"category\",\n        \"num_unique_values\": 6,\n        \"samples\": [\n          \"\",\n          \"14 a 17\",\n          \"60 ou mais\"\n        ],\n        \"semantic_type\": \"\",\n        \"description\": \"\"\n      }\n    },\n    {\n      \"column\": \"grau_instrucao\",\n      \"properties\": {\n        \"dtype\": \"category\",\n        \"num_unique_values\": 12,\n        \"samples\": [\n          \"MESTRADO\",\n          \"SUP. COMP\",\n          \"\"\n        ],\n        \"semantic_type\": \"\",\n        \"description\": \"\"\n      }\n    },\n    {\n      \"column\": \"janeiro\",\n      \"properties\": {\n        \"dtype\": \"number\",\n        \"std\": 752,\n        \"min\": 0,\n        \"max\": 60831,\n        \"num_unique_values\": 399,\n        \"samples\": [\n          161,\n          439,\n          111\n        ],\n        \"semantic_type\": \"\",\n        \"description\": \"\"\n      }\n    },\n    {\n      \"column\": \"fevereiro\",\n      \"properties\": {\n        \"dtype\": \"number\",\n        \"std\": 779,\n        \"min\": 0,\n        \"max\": 61550,\n        \"num_unique_values\": 424,\n        \"samples\": [\n          223,\n          317,\n          2537\n        ],\n        \"semantic_type\": \"\",\n        \"description\": \"\"\n      }\n    },\n    {\n      \"column\": \"mar\\u00e7o\",\n      \"properties\": {\n        \"dtype\": \"number\",\n        \"std\": 826,\n        \"min\": 0,\n        \"max\": 63858,\n        \"num_unique_values\": 438,\n        \"samples\": [\n          69,\n          1528,\n          12027\n        ],\n        \"semantic_type\": \"\",\n        \"description\": \"\"\n      }\n    },\n    {\n      \"column\": \"abril\",\n      \"properties\": {\n        \"dtype\": \"number\",\n        \"std\": 865,\n        \"min\": 0,\n        \"max\": 65692,\n        \"num_unique_values\": 453,\n        \"samples\": [\n          4684,\n          9975,\n          79\n        ],\n        \"semantic_type\": \"\",\n        \"description\": \"\"\n      }\n    },\n    {\n      \"column\": \"maio\",\n      \"properties\": {\n        \"dtype\": \"number\",\n        \"std\": 894,\n        \"min\": 0,\n        \"max\": 66980,\n        \"num_unique_values\": 454,\n        \"samples\": [\n          187,\n          10535,\n          339\n        ],\n        \"semantic_type\": \"\",\n        \"description\": \"\"\n      }\n    },\n    {\n      \"column\": \"junho\",\n      \"properties\": {\n        \"dtype\": \"number\",\n        \"std\": 920,\n        \"min\": 0,\n        \"max\": 67977,\n        \"num_unique_values\": 462,\n        \"samples\": [\n          145,\n          6759,\n          616\n        ],\n        \"semantic_type\": \"\",\n        \"description\": \"\"\n      }\n    },\n    {\n      \"column\": \"julho\",\n      \"properties\": {\n        \"dtype\": \"number\",\n        \"std\": 938,\n        \"min\": 0,\n        \"max\": 68245,\n        \"num_unique_values\": 472,\n        \"samples\": [\n          16,\n          26,\n          247\n        ],\n        \"semantic_type\": \"\",\n        \"description\": \"\"\n      }\n    },\n    {\n      \"column\": \"agosto\",\n      \"properties\": {\n        \"dtype\": \"number\",\n        \"std\": 955,\n        \"min\": 0,\n        \"max\": 68617,\n        \"num_unique_values\": 483,\n        \"samples\": [\n          223,\n          946,\n          313\n        ],\n        \"semantic_type\": \"\",\n        \"description\": \"\"\n      }\n    },\n    {\n      \"column\": \"setembro\",\n      \"properties\": {\n        \"dtype\": \"number\",\n        \"std\": 973,\n        \"min\": 0,\n        \"max\": 68945,\n        \"num_unique_values\": 486,\n        \"samples\": [\n          571,\n          5862,\n          83\n        ],\n        \"semantic_type\": \"\",\n        \"description\": \"\"\n      }\n    },\n    {\n      \"column\": \"outubro\",\n      \"properties\": {\n        \"dtype\": \"number\",\n        \"std\": 984,\n        \"min\": 0,\n        \"max\": 68952,\n        \"num_unique_values\": 498,\n        \"samples\": [\n          1006,\n          26,\n          146\n        ],\n        \"semantic_type\": \"\",\n        \"description\": \"\"\n      }\n    },\n    {\n      \"column\": \"novembro\",\n      \"properties\": {\n        \"dtype\": \"number\",\n        \"std\": 990,\n        \"min\": 0,\n        \"max\": 68954,\n        \"num_unique_values\": 496,\n        \"samples\": [\n          439,\n          19,\n          551\n        ],\n        \"semantic_type\": \"\",\n        \"description\": \"\"\n      }\n    },\n    {\n      \"column\": \"dezembro\",\n      \"properties\": {\n        \"dtype\": \"number\",\n        \"std\": 990,\n        \"min\": 0,\n        \"max\": 68954,\n        \"num_unique_values\": 496,\n        \"samples\": [\n          439,\n          19,\n          551\n        ],\n        \"semantic_type\": \"\",\n        \"description\": \"\"\n      }\n    }\n  ]\n}"
            }
          },
          "metadata": {},
          "execution_count": 36
        }
      ]
    },
    {
      "cell_type": "markdown",
      "source": [
        "## Tabela de estoque atualizado"
      ],
      "metadata": {
        "id": "BwfPF1tTJVpn"
      }
    },
    {
      "cell_type": "markdown",
      "source": [
        "A função **teste_tabela_final** consolida dados de estoque de empregos e movimentações (admissões e demissões) de diferentes fontes para calcular o saldo mensal de empregos. Ela começa criando um DataFrame com todas as combinações de filtros demográficos e de escolaridade e, em seguida, preenche as colunas de cada mês, somando e subtraindo os dados de estoque, admissões e demissões de várias tabelas geradas por outras funções."
      ],
      "metadata": {
        "id": "X5W2J-EdSiWg"
      }
    },
    {
      "cell_type": "code",
      "source": [
        "def teste_tabela_final():\n",
        "  dados = []\n",
        "\n",
        "  # Itera sobre combinações de filtros e adiciona ao DataFrame\n",
        "  for local_ in local:\n",
        "    for sexo_ in sexo:\n",
        "      for raca_ in raca_cor:\n",
        "        for idade_ in idades:\n",
        "          for gdi_ in grau_de_instrucao:\n",
        "            dados.append({'sigla_uf': local_, 'sexo': sexo_, 'raca': raca_, 'faixa_etaria': idade_, 'grau_instrucao': gdi_})\n",
        "  df = pd.DataFrame(dados) # Cria DataFrame com os dados\n",
        "\n",
        "  # Instancia classes de tabelas\n",
        "  rais = Tabela_Rais()\n",
        "  mov_admissoes = TabelaMOv_admissoes(admissoes = True)\n",
        "  mov_demissoes = TabelaMOv_admissoes(admissoes = False)\n",
        "  for_admissoes = Tabela_For_admissoes_final()\n",
        "  for_demissoes = Tabela_For_demissoes_final()\n",
        "  exc_admissoes = tabela_exc_final(funcao = caged_exc_admissoes)\n",
        "  exc_demissoes = tabela_exc_final(funcao = caged_exc_demissoes)\n",
        "\n",
        "  # Calcula valor mensal para cada combinação de filtros\n",
        "  # for mes_ in meses:\n",
        "  #   df[mes_] = rais['estoque'] + mov_admissoes[mes_] - mov_demissoes[mes_] + for_admissoes[mes_] - for_demissoes[mes_] - exc_admissoes[mes_] + exc_demissoes[mes_]\n",
        "\n",
        "  df['janeiro'] =  rais['estoque'] + mov_admissoes['janeiro'] - mov_demissoes['janeiro'] + for_admissoes['janeiro'] - for_demissoes['janeiro'] - exc_admissoes['janeiro'] + exc_demissoes['janeiro']\n",
        "  df['fevereiro'] = df['janeiro'] + mov_admissoes['fevereiro'] - mov_demissoes['fevereiro'] + for_admissoes['fevereiro'] - for_demissoes['fevereiro'] - exc_admissoes['fevereiro'] + exc_demissoes['fevereiro']\n",
        "  df['março'] = df['fevereiro'] + mov_admissoes['março'] - mov_demissoes['março'] + for_admissoes['março'] - for_demissoes['março'] - exc_admissoes['março'] + exc_demissoes['março']\n",
        "  df['abril'] = df['março'] + mov_admissoes['abril'] - mov_demissoes['abril'] + for_admissoes['abril'] - for_demissoes['abril'] - exc_admissoes['abril'] + exc_demissoes['abril']\n",
        "  df['maio'] = df['abril'] + mov_admissoes['maio'] - mov_demissoes['maio'] + for_admissoes['maio'] - for_demissoes['maio'] - exc_admissoes['maio'] + exc_demissoes['maio']\n",
        "  df['junho'] = df['maio'] + mov_admissoes['junho'] - mov_demissoes['junho'] + for_admissoes['junho'] - for_demissoes['junho'] - exc_admissoes['junho'] + exc_demissoes['junho']\n",
        "  df['julho'] = df['junho'] + mov_admissoes['julho'] - mov_demissoes['julho'] + for_admissoes['julho'] - for_demissoes['julho'] - exc_admissoes['julho'] + exc_demissoes['julho']\n",
        "  df['agosto'] = df['julho'] + mov_admissoes['agosto'] - mov_demissoes['agosto'] + for_admissoes['agosto'] - for_demissoes['agosto'] - exc_admissoes['agosto'] + exc_demissoes['agosto']\n",
        "  df['setembro'] = df['agosto'] + mov_admissoes['setembro'] - mov_demissoes['setembro'] + for_admissoes['setembro'] - for_demissoes['setembro'] - exc_admissoes['setembro'] + exc_demissoes['setembro']\n",
        "  df['outubro'] = df['setembro'] + mov_admissoes['outubro'] - mov_demissoes['outubro'] + for_admissoes['outubro'] - for_demissoes['outubro'] - exc_admissoes['outubro'] + exc_demissoes['outubro']\n",
        "  df['novembro'] = df['outubro'] + mov_admissoes['novembro'] - mov_demissoes['novembro'] + for_admissoes['novembro'] - for_demissoes['novembro'] - exc_admissoes['novembro'] + exc_demissoes['novembro']\n",
        "  df['dezembro'] = df['novembro'] + mov_admissoes['dezembro'] - mov_demissoes['dezembro'] + for_admissoes['dezembro'] - for_demissoes['dezembro'] - exc_admissoes['dezembro'] + exc_demissoes['dezembro']\n",
        "\n",
        "  return df # Retorna o DataFrame final"
      ],
      "metadata": {
        "id": "dRj31NOvJY6M"
      },
      "execution_count": null,
      "outputs": []
    },
    {
      "cell_type": "code",
      "source": [
        "tabela_final = teste_tabela_final()"
      ],
      "metadata": {
        "id": "CgTQ733sJfk8",
        "colab": {
          "base_uri": "https://localhost:8080/"
        },
        "outputId": "d321fae5-9c83-4578-cdf4-c1ef762b37ba"
      },
      "execution_count": null,
      "outputs": [
        {
          "output_type": "stream",
          "name": "stderr",
          "text": [
            "100%|██████████| 9216/9216 [03:04<00:00, 50.05it/s]\n",
            "100%|██████████| 9216/9216 [02:01<00:00, 75.65it/s]\n",
            "100%|██████████| 9216/9216 [02:12<00:00, 69.65it/s]\n",
            "100%|██████████| 12/12 [00:00<00:00, 364.49it/s]\n",
            "100%|██████████| 12/12 [00:00<00:00, 342.57it/s]\n",
            "100%|██████████| 12/12 [00:00<00:00, 312.64it/s]\n"
          ]
        }
      ]
    },
    {
      "cell_type": "code",
      "source": [
        "tabela_final.to_csv('resultados_caged.csv', sep = ';')"
      ],
      "metadata": {
        "id": "L_JkA5OLLs7-"
      },
      "execution_count": null,
      "outputs": []
    },
    {
      "cell_type": "code",
      "source": [],
      "metadata": {
        "id": "iOWnkuorl2VE"
      },
      "execution_count": null,
      "outputs": []
    }
  ]
}