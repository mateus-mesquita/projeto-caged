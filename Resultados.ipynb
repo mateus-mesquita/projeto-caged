{
  "nbformat": 4,
  "nbformat_minor": 0,
  "metadata": {
    "colab": {
      "provenance": [],
      "mount_file_id": "1q5aLQ4BnEtRd6UnJh6JMzZf9QJdTYtgl",
      "authorship_tag": "ABX9TyOyOkyN4DIJs3e7iwjJriuC",
      "include_colab_link": true
    },
    "kernelspec": {
      "name": "python3",
      "display_name": "Python 3"
    },
    "language_info": {
      "name": "python"
    }
  },
  "cells": [
    {
      "cell_type": "markdown",
      "metadata": {
        "id": "view-in-github",
        "colab_type": "text"
      },
      "source": [
        "<a href=\"https://colab.research.google.com/github/mateus-mesquita/projeto-caged/blob/master/Resultados.ipynb\" target=\"_parent\"><img src=\"https://colab.research.google.com/assets/colab-badge.svg\" alt=\"Open In Colab\"/></a>"
      ]
    },
    {
      "cell_type": "markdown",
      "source": [
        "## importações"
      ],
      "metadata": {
        "id": "tTVsvzBvSR2q"
      }
    },
    {
      "cell_type": "code",
      "source": [
        "import pandas as pd # Importa a biblioteca pandas para manipulação de dados\n",
        "from itertools import product # Importa product para gerar combinações\n",
        "from joblib import Parallel, delayed, parallel_backend # Importa joblib para paralelização\n",
        "import tqdm # Importa tqdm para exibir barras de progresso"
      ],
      "metadata": {
        "id": "8CaCdu3ISUEQ"
      },
      "execution_count": 276,
      "outputs": []
    },
    {
      "cell_type": "markdown",
      "source": [
        "## Função de ler arquivos\n"
      ],
      "metadata": {
        "id": "e5YzyDWoOZ9s"
      }
    },
    {
      "cell_type": "code",
      "source": [
        "# Unidades Federativas (UF) a serem consideradas.\n",
        "local = [\"\", \"CE\", \"PE\", \"BA\"]\n",
        "\n",
        "# Opções de gênero.\n",
        "sexo = [\"\", \"Feminino\", \"Masculino\", \"Não informado\"]\n",
        "\n",
        "# Categorias de raça/cor.\n",
        "raca_cor = [\"\", \"Branca\", \"Preta\", \"Parda\", \"Amarela\", \"Indígena\",\"Não informada\", \"Não identificado\"]\n",
        "\n",
        "# Níveis de instrução (escolaridade).\n",
        "grau_de_instrucao = [\"\", \"ANALFABETO\", \"ATE 5.A INC\", \"5.A CO FUND\", \"6. A 9. FUND\",\n",
        "\"FUND COMPL\", \"MEDIO INCOMP\", \"MEDIO COMPL\",'SUP. INCOMP', \"SUP. COMP\", \"MESTRADO\", \"DOUTORADO\"]\n",
        "\n",
        "# Faixas etárias.\n",
        "idades = [\"\", \"14 a 17\", \"18 a 24\", \"25 a 39\", \"40 a 59\", \"60 ou mais\"]"
      ],
      "metadata": {
        "id": "CbX0pXrhvwUu"
      },
      "execution_count": 277,
      "outputs": []
    },
    {
      "cell_type": "code",
      "source": [
        "dic = { # Dicionário que mapeia o ano e mês de início para uma lista de meses subsequentes\n",
        "    202401.0: [\"janeiro\", \"fevereiro\", \"março\", \"abril\", \"maio\", \"junho\",\n",
        "               \"julho\", \"agosto\", \"setembro\", \"outubro\", \"novembro\", \"dezembro\"], # Meses de janeiro a dezembro\n",
        "    202402.0: [\"fevereiro\", \"março\", \"abril\", \"maio\", \"junho\",\n",
        "               \"julho\", \"agosto\", \"setembro\", \"outubro\", \"novembro\", \"dezembro\"], # Meses de fevereiro a dezembro\n",
        "    202403.0: [\"março\", \"abril\", \"maio\", \"junho\",\n",
        "               \"julho\", \"agosto\", \"setembro\", \"outubro\", \"novembro\", \"dezembro\"], # Meses de março a dezembro\n",
        "    202404.0: [\"abril\", \"maio\", \"junho\",\n",
        "               \"julho\", \"agosto\", \"setembro\", \"outubro\", \"novembro\", \"dezembro\"], # Meses de abril a dezembro\n",
        "    202405.0: [\"maio\", \"junho\",\n",
        "               \"julho\", \"agosto\", \"setembro\", \"outubro\", \"novembro\", \"dezembro\"], # Meses de maio a dezembro\n",
        "    202406.0: [\"junho\", \"julho\", \"agosto\", \"setembro\", \"outubro\", \"novembro\", \"dezembro\"], # Meses de junho a dezembro\n",
        "    202407.0: [\"julho\", \"agosto\", \"setembro\", \"outubro\", \"novembro\", \"dezembro\"], # Meses de julho a dezembro\n",
        "    202408.0: [\"agosto\", \"setembro\", \"outubro\", \"novembro\", \"dezembro\"], # Meses de agosto a dezembro\n",
        "    202409.0: [\"setembro\", \"outubro\", \"novembro\", \"dezembro\"], # Meses de setembro a dezembro\n",
        "    202410.0: [\"outubro\", \"novembro\", \"dezembro\"], # Meses de outubro a dezembro\n",
        "    202411.0: [\"novembro\", \"dezembro\"], # Meses de novembro a dezembro\n",
        "    202412.0: [\"dezembro\"] # Mês de dezembro\n",
        "}"
      ],
      "metadata": {
        "id": "jzm3GwMiPids"
      },
      "execution_count": 278,
      "outputs": []
    },
    {
      "cell_type": "code",
      "source": [
        "meses = ['janeiro','fevereiro','março','abril','maio','junho','julho','agosto','setembro','outubro','novembro','dezembro']"
      ],
      "metadata": {
        "id": "Yorc3gVAPrZN"
      },
      "execution_count": 279,
      "outputs": []
    },
    {
      "cell_type": "code",
      "execution_count": 280,
      "metadata": {
        "id": "KgdSpK8YN77p"
      },
      "outputs": [],
      "source": [
        "def carregar_arquivo(caminho):\n",
        "  try:\n",
        "    # Lê o arquivo CSV com separador de ponto e vírgula\n",
        "    dados = pd.read_csv(caminho, sep = ';')\n",
        "    # Retorna os dados carregados\n",
        "    return dados\n",
        "  except FileNotFoundError:\n",
        "    # Informa se o arquivo não for encontrado\n",
        "    print(f\"Arquivo não encontrado em {caminho}\")"
      ]
    },
    {
      "cell_type": "markdown",
      "source": [
        "Este código Python define uma função chamada `carregar_arquivo` que tem como objetivo ler dados de um arquivo CSV (Comma Separated Values) e carregá-los em um DataFrame do pandas. Ele também inclui um mecanismo para lidar com o caso em que o arquivo especificado não é encontrado."
      ],
      "metadata": {
        "id": "PTQCqFTOPo2Y"
      }
    },
    {
      "cell_type": "markdown",
      "source": [
        "## Tabela RAIS(estoque)"
      ],
      "metadata": {
        "id": "2qA3QY6FP4W-"
      }
    },
    {
      "cell_type": "code",
      "source": [
        "def busca_linear_rais(lista,local,sexo,raca,idade,gdi):\n",
        "  try:\n",
        "    # Itera sobre a lista com barra de progresso\n",
        "    for i in lista:\n",
        "      # Compara os 4 primeiros elementos da sublista\n",
        "      if i[:5] == (local,sexo,raca,idade,gdi):\n",
        "        # Retorna o sexto elemento da sublista se houver correspondência\n",
        "        return i[6]\n",
        "    # Retorna 0 se nenhum item for encontrado\n",
        "    return 0\n",
        "  except:\n",
        "    # Mensagem de erro em caso de exceção\n",
        "    print(\"\")\n",
        "    print('Erro na busca pelo estoque')"
      ],
      "metadata": {
        "id": "H0HW2_xOP3ox"
      },
      "execution_count": 281,
      "outputs": []
    },
    {
      "cell_type": "markdown",
      "source": [
        "A função `Busca_linear_rais` percorre uma lista buscando por um item que corresponda aos critérios de local, sexo, raca, idade e gdi, retornando um valor associado ao item encontrado ou 0 caso não encontre ou ocorra um erro.\n"
      ],
      "metadata": {
        "id": "rrH24-nDRoFe"
      }
    },
    {
      "cell_type": "code",
      "source": [
        "def RAIS():\n",
        "  try:\n",
        "    # Lê o arquivo CSV\n",
        "    dados = pd.read_csv('/content/drive/MyDrive/resultado_final_estoque_rais2023.csv', sep = ';')\n",
        "    dados['sigla_uf'] = dados['sigla_uf'].str.upper() # Converte a coluna 'sigla_uf' para maiúsculas\n",
        "    dados['sexo'] = dados['sexo'].str.upper() # Converte a coluna 'sexo' para maiúsculas\n",
        "    dados['raca_cor'] = dados['raca_cor'].str.upper() # Converte a coluna 'raca_cor' para maiúsculas\n",
        "    dados['faixa_etaria'] = dados['faixa_etaria'].str.upper() # Converte a coluna 'faixa_etaria' para maiúsculas\n",
        "    dados['grau_instrucao_apos_2005'] = dados['grau_instrucao_apos_2005'].str.upper() # Converte a coluna 'grau_instrucao_apos_2005' para maiúsculas\n",
        "    return dados.fillna(\"\")\n",
        "  except FileNotFoundError:\n",
        "    # Informa se o arquivo não for encontrado\n",
        "    print(f\"Arquivo não encontrado em {caminho}\")\n",
        "\n",
        "\n",
        "# Converte DataFrame em lista de tuplas\n",
        "lista_dados_rais = lambda dados: [tuple(linha) for linha in dados.itertuples(index=False)]"
      ],
      "metadata": {
        "id": "dutxCKGNTITq"
      },
      "execution_count": 282,
      "outputs": []
    },
    {
      "cell_type": "markdown",
      "source": [
        "A função **`RAIS`** lê um arquivo CSV específico e retorna seu conteúdo como um **DataFrame** do Pandas. Se o arquivo não for encontrado, ela informa ao usuário. A **função lambda lista_dados_rais** converte um DataFrame em uma lista de tuplas, onde cada tupla representa uma linha do DataFrame."
      ],
      "metadata": {
        "id": "eA-7C1oBAmRW"
      }
    },
    {
      "cell_type": "code",
      "source": [
        "lista = lista_dados_rais(RAIS())"
      ],
      "metadata": {
        "id": "eT6BXwMzBeze"
      },
      "execution_count": 283,
      "outputs": []
    },
    {
      "cell_type": "code",
      "source": [
        "# def TabelaRais():\n",
        "#     try:\n",
        "#         global dados_iter\n",
        "#         # Usa o backend 'loky' para paralelização\n",
        "#         with parallel_backend('loky'):\n",
        "#             # Executa 'executar_admissoes' em paralelo\n",
        "#             resultados = Parallel(n_jobs=-1, verbose=10)(\n",
        "#                 delayed(ExecutarRais)(x[0], x[1], x[2], x[3], x[4])\n",
        "#                 for x in dados_iter\n",
        "#             )\n",
        "#             # Retorna um DataFrame pandas com os resultados\n",
        "#             return pd.DataFrame(resultados)\n",
        "#     except:\n",
        "#         # Exibe mensagem de erro se a tabela não for criada\n",
        "#         print('Erro na criação da Tabela RAIS')"
      ],
      "metadata": {
        "id": "k5Xe_z4SOufd"
      },
      "execution_count": 284,
      "outputs": []
    },
    {
      "cell_type": "markdown",
      "source": [
        "A função TabelaRais processa dados de admissões em paralelo usando o framework joblib para criar e retornar um DataFrame Pandas com os resultados, tratando possíveis erros durante a execução."
      ],
      "metadata": {
        "id": "WBLo8Hq7PUbi"
      }
    },
    {
      "cell_type": "code",
      "source": [
        "def dados_iterador() -> list:\n",
        "  iteracoes = list(product(local, sexo, raca_cor, idades, grau_de_instrucao))\n",
        "  return iteracoes\n",
        "\n",
        "  dados_iter = dados_iterador()"
      ],
      "metadata": {
        "id": "ZiqKKApZQ67q"
      },
      "execution_count": 285,
      "outputs": []
    },
    {
      "cell_type": "markdown",
      "source": [
        "A função `dados_iterador` cria e retorna um iterador (na forma de uma lista) que combina todas as possíveis permutações dos elementos fornecidos pelas variáveis local, sexo, raca_cor, idades e grau_de_instrucao."
      ],
      "metadata": {
        "id": "GGhljIdn55ON"
      }
    },
    {
      "cell_type": "code",
      "source": [
        "def Tabela_Rais() -> pd.DataFrame:\n",
        "  dados = []\n",
        "  global lista\n",
        "\n",
        "  for x in tqdm.tqdm(dados_iterador()):\n",
        "    dados.append({'sigla_uf': x[0], 'sexo': x[1], 'raca': x[2], 'faixa_etaria': x[3], 'grau_instrucao': x[4],'estoque':busca_linear_rais(lista,x[0],x[1], x[2],x[3],x[4])})\n",
        "\n",
        "  return pd.DataFrame(dados)"
      ],
      "metadata": {
        "id": "YQFRCeaGv46d"
      },
      "execution_count": 286,
      "outputs": []
    },
    {
      "cell_type": "markdown",
      "source": [
        "A função `Tabela_Rais` processa dados de um iterador para criar um DataFrame do Pandas. Para cada item do iterador, ela busca informações usando a função busca_linear_rais e as organiza em um dicionário que é então adicionado a uma lista, resultando em um DataFrame."
      ],
      "metadata": {
        "id": "LvOIEnDX50L0"
      }
    },
    {
      "cell_type": "markdown",
      "source": [
        "## Tabela CAGED MOV"
      ],
      "metadata": {
        "id": "JXgHyHFU0wcm"
      }
    },
    {
      "cell_type": "code",
      "source": [
        "def cagedmov_admissoes(mes = 'janeiro') -> pd.DataFrame:\n",
        "  try:\n",
        "    # Carrega o arquivo CSV\n",
        "    dados = pd.read_csv('/content/drive/MyDrive/mov_admissoes2024.csv', sep = ';')\n",
        "    # Filtra por mês e seleciona colunas específicas, preenchendo vazios\n",
        "    return dados.query(f'mes == \"{mes}\"')[['uf','sexo','raçacor','faixa_idade','graudeinstrução','admissoes']].fillna(\"\")\n",
        "  except FileNotFoundError:\n",
        "    # Mensagem de erro se o arquivo não for encontrado\n",
        "    print(f\"Arquivo não encontrado em {caminho}\")\n",
        "\n",
        "# Converte DataFrame em uma lista de tuplas\n",
        "lista_mov= lambda dados: [tuple(linha) for linha in dados.itertuples(index=False)]"
      ],
      "metadata": {
        "id": "f1GkDZJW02d0"
      },
      "execution_count": 287,
      "outputs": []
    },
    {
      "cell_type": "code",
      "source": [
        "def cagedmov_demissao(mes = 'janeiro') -> pd.DataFrame:\n",
        "  try:\n",
        "    # Carrega o arquivo CSV\n",
        "    dados = pd.read_csv('/content/drive/MyDrive/mov_demissoes2024 (1).csv', sep = ';')\n",
        "    # Filtra por mês e seleciona colunas específicas, preenchendo vazios\n",
        "    return dados.query(f'mes == \"{mes}\"')[['uf','sexo','raçacor','faixa_idade','graudeinstrução','demissoes']].fillna(\"\")\n",
        "  except FileNotFoundError as caminho:\n",
        "    # Mensagem de erro se o arquivo não for encontrado\n",
        "    print(f\"Arquivo não encontrado em {caminho}\")\n"
      ],
      "metadata": {
        "id": "2221t9dZEeGc"
      },
      "execution_count": 288,
      "outputs": []
    },
    {
      "cell_type": "markdown",
      "source": [
        "A função cagedmov_admissoes carrega dados de admissões de um arquivo CSV, filtra-os por um mês específico e retorna um DataFrame do Pandas com colunas selecionadas, tratando valores ausentes."
      ],
      "metadata": {
        "id": "u1PMMNEi5mie"
      }
    },
    {
      "cell_type": "markdown",
      "source": [
        "O lambda lista_mov_admissoes converte um DataFrame do Pandas em uma lista de tuplas, onde cada tupla representa uma linha do DataFrame, excluindo o índice"
      ],
      "metadata": {
        "id": "rqtusTK86HZ4"
      }
    },
    {
      "cell_type": "code",
      "source": [
        "def busca_linear_mov(lista,local,sexo,raca,idade,gdi):\n",
        "  try:\n",
        "    # Itera sobre os elementos da lista\n",
        "    for i in lista:\n",
        "      # Compara os 5 primeiros elementos da tupla\n",
        "      if i[:5] == (local,sexo,raca,idade,gdi):\n",
        "        # Retorna o sexto elemento se houver correspondência\n",
        "        return i[5]\n",
        "    # Retorna 0 se nenhum item for encontrado\n",
        "    return 0\n",
        "  except:\n",
        "    # Imprime mensagem de erro\n",
        "    print(\"\")\n",
        "    print('Erro na busca')"
      ],
      "metadata": {
        "id": "wppDnFnc3Rz9"
      },
      "execution_count": 290,
      "outputs": []
    },
    {
      "cell_type": "markdown",
      "source": [
        "A função busca_linear_mov percorre uma lista de tuplas e retorna o sexto elemento da primeira tupla que corresponde aos cinco critérios de busca fornecidos (local, sexo, raça, idade, GDI); caso não encontre, retorna 0."
      ],
      "metadata": {
        "id": "m9oPMhV_5M3u"
      }
    },
    {
      "cell_type": "code",
      "source": [
        "meses = ['janeiro','fevereiro','março','abril','maio','junho','julho','agosto','setembro','outubro','novembro','dezembro']"
      ],
      "metadata": {
        "id": "SpaCsg6m6S89"
      },
      "execution_count": 291,
      "outputs": []
    },
    {
      "cell_type": "code",
      "source": [
        "def listas_mov_admissoes():\n",
        "  lista = []\n",
        "  # Itera sobre cada mês na lista 'meses'\n",
        "  for mes_ in meses:\n",
        "    # Adiciona um dicionário à lista, onde a chave é o mês e o valor é a lista de admissões para aquele mês\n",
        "    lista.append({mes_:lista_mov(cagedmov_admissoes(mes_))})\n",
        "  # Retorna a lista de dicionários\n",
        "  return lista"
      ],
      "metadata": {
        "id": "j2MgYueG15A1"
      },
      "execution_count": 292,
      "outputs": []
    },
    {
      "cell_type": "code",
      "source": [
        "def listas_mov_demissoes():\n",
        "  lista = []\n",
        "  # Itera sobre cada mês na lista 'meses'\n",
        "  for mes_ in meses:\n",
        "    # Adiciona um dicionário à lista, onde a chave é o mês e o valor é a lista de admissões para aquele mês\n",
        "    lista.append({mes_:lista_mov(cagedmov_demissao(mes_))})\n",
        "  # Retorna a lista de dicionários\n",
        "  return lista"
      ],
      "metadata": {
        "id": "2Tvmp3BIB0S-"
      },
      "execution_count": 293,
      "outputs": []
    },
    {
      "cell_type": "markdown",
      "source": [
        "A função listas_mov constrói uma lista de dicionários, onde cada dicionário representa um mês e associa a ele uma lista de movimentações de admissão obtidas através de outras funções auxiliares."
      ],
      "metadata": {
        "id": "V3RcZlyaAoyW"
      }
    },
    {
      "cell_type": "code",
      "source": [
        "def TabelaMOv_admissoes(admissoes = bool):\n",
        "  dados = []\n",
        "  # Carrega a lista de dados de movimentação\n",
        "  lista_mov = listas_mov_admissoes() if admissoes == True else listas_mov_demissoes()\n",
        "  # Obtém o iterador de dados\n",
        "  dados_iter = dados_iterador()\n",
        "\n",
        "  # Itera sobre os dados com barra de progresso\n",
        "  for x in tqdm.tqdm(dados_iter):\n",
        "      # Adiciona um dicionário à lista 'dados' para cada iteração\n",
        "      dados.append({\n",
        "          'sigla_uf': x[0],\n",
        "          'sexo': x[1],\n",
        "          'raca': x[2],\n",
        "          'faixa_etaria': x[3],\n",
        "          'grau_instrucao': x[4],\n",
        "          # Realiza a busca linear para cada mês\n",
        "          'janeiro': busca_linear_mov(lista_mov[0]['janeiro'], x[0], x[1], x[2], x[3], x[4]),\n",
        "          'fevereiro': busca_linear_mov(lista_mov[1]['fevereiro'], x[0], x[1], x[2], x[3], x[4]),\n",
        "          'março': busca_linear_mov(lista_mov[2]['março'], x[0], x[1], x[2], x[3], x[4]),\n",
        "          'abril': busca_linear_mov(lista_mov[3]['abril'], x[0], x[1], x[2], x[3], x[4]),\n",
        "          'maio': busca_linear_mov(lista_mov[4]['maio'], x[0], x[1], x[2], x[3], x[4]),\n",
        "          'junho': busca_linear_mov(lista_mov[5]['junho'], x[0], x[1], x[2], x[3], x[4]),\n",
        "          'julho': busca_linear_mov(lista_mov[6]['julho'], x[0], x[1], x[2], x[3], x[4]),\n",
        "          'agosto': busca_linear_mov(lista_mov[7]['agosto'], x[0], x[1], x[2], x[3], x[4]),\n",
        "          'setembro': busca_linear_mov(lista_mov[8]['setembro'], x[0], x[1], x[2], x[3], x[4]),\n",
        "          'outubro': busca_linear_mov(lista_mov[9]['outubro'], x[0], x[1], x[2], x[3], x[4]),\n",
        "          'novembro': busca_linear_mov(lista_mov[10]['novembro'], x[0], x[1], x[2], x[3], x[4]),\n",
        "          'dezembro': busca_linear_mov(lista_mov[11]['dezembro'], x[0], x[1], x[2], x[3], x[4])\n",
        "      })\n",
        "\n",
        "      # Retorna um DataFrame do pandas com os dados coletados\n",
        "  return pd.DataFrame(dados)"
      ],
      "metadata": {
        "id": "eOV2XpfPAJ6V"
      },
      "execution_count": 294,
      "outputs": []
    },
    {
      "cell_type": "markdown",
      "source": [
        "A função TabelaMOv_admissoes cria um DataFrame do pandas que sumariza dados de admissões. Ela itera sobre uma combinação de características (como sigla da UF, sexo, raça, faixa etária e grau de instrução) e, para cada combinação, realiza uma busca linear para encontrar os dados de admissão correspondentes em cada mês do ano."
      ],
      "metadata": {
        "id": "q-B9a-ZDAxUl"
      }
    },
    {
      "cell_type": "markdown",
      "source": [
        "O processo de construção da tabela de movimentações considerando apenas\n",
        "demissões será o mesmo que para admissões"
      ],
      "metadata": {
        "id": "SqZcRzQuAOns"
      }
    },
    {
      "cell_type": "markdown",
      "source": [
        "## CAGED FOR"
      ],
      "metadata": {
        "id": "ojKKKfNXIfyF"
      }
    },
    {
      "cell_type": "code",
      "source": [
        "def caged_for_admissoes(mes = 'janeiro'):\n",
        "\n",
        "  mapeamento = { # Dicionário de mapeamento para padronizar os graus de instrução\n",
        "    '': '', # Mantém string vazia como vazia\n",
        "    'ANALFABETO': 'ANALFABETO', # Mapeia 'ANALFABETO' para 'ANALFABETO'\n",
        "    'ATE 5.A INC': 'ATE 5.A INC', # Mapeia 'ATE 5.A INC' para 'ATE 5.A INC'\n",
        "    '5.A CO FUND': '5.A CO FUND', # Mapeia '5.A CO FUND' para '5.A CO FUND'\n",
        "    '6.A.9.FUND': '6. A 9. FUND', # Mapeia '6.A.9.FUND' para '6. A 9. FUND'\n",
        "    'FUND COMPL': 'FUND COMPL', # Mapeia 'FUND COMPL' para 'FUND COMPL'\n",
        "    'MEDIO INCOMP': 'MEDIO INCOMP', # Mapeia 'MEDIO INCOMP' para 'MEDIO INCOMP'\n",
        "    'MEDIO COMPL': 'MEDIO COMPL', # Mapeia 'MEDIO COMPL' para 'MEDIO COMPL'\n",
        "    'SUP.INCOMP': 'SUP. INCOMP', # Mapeia 'SUP.INCOMP' para 'SUP. INCOMP'\n",
        "    'SUP.COMP': 'SUP. COMP', # Mapeia 'SUP.COMP' para 'SUP. COMP'\n",
        "    'MESTRADO': 'MESTRADO', # Mapeia 'MESTRADO' para 'MESTRADO'\n",
        "    'DOUTORADO': 'DOUTORADO' # Mapeia 'DOUTORADO' para 'DOUTORADO'\n",
        "}\n",
        "  try:\n",
        "    # Carrega o arquivo CSV\n",
        "    dados = pd.read_csv('/content/drive/MyDrive/for_admissoes2024 (2).csv', sep = ';') # Lê CSV\n",
        "    # Filtra por mês e seleciona colunas específicas, preenchendo vazios\n",
        "    dados['graudeinstrução'] = dados['graudeinstrução'].map(mapeamento) # Aplica o mapeamento aos graus de instrução\n",
        "    dados['uf'] = dados['uf'].str.upper() # Converte a coluna 'uf' para maiúsculas\n",
        "    dados['sexo'] = dados['sexo'].str.upper() # Converte a coluna 'sexo' para maiúsculas\n",
        "    dados['raçacor'] = dados['raçacor'].str.upper() # Converte a coluna 'raçacor' para maiúsculas\n",
        "    dados['faixa_idade'] = dados['faixa_idade'].str.upper() # Converte a coluna 'faixa_idade' para maiúsculas\n",
        "    dados['graudeinstrução'] = dados['graudeinstrução'].str.upper() # Converte a coluna 'graudeinstrução' para maiúsculas\n",
        "    return dados.query(f'mes == \"{mes}\"')[['competênciamov','uf','sexo','raçacor','faixa_idade','graudeinstrução','admissoes']].fillna(\"\") # Filtra, seleciona colunas e preenche NaN\n",
        "  except FileNotFoundError as caminho:\n",
        "    # Mensagem de erro se o arquivo não for encontrado\n",
        "    print(f\"Arquivo não encontrado em {caminho}\") # Informa erro de arquivo não encontrado"
      ],
      "metadata": {
        "id": "KqKT0mifIjFC"
      },
      "execution_count": 295,
      "outputs": []
    },
    {
      "cell_type": "markdown",
      "source": [
        "\n",
        "\n",
        "**caged_for_admissoes**\n",
        "\n",
        "A função **caged_for_admissoes** lê um arquivo CSV específico, filtra os dados pelo mês fornecido e seleciona um subconjunto de colunas, preenchendo quaisquer valores ausentes com strings vazias antes de retorná-los. Se o arquivo não for encontrado, ela imprime uma mensagem de erro."
      ],
      "metadata": {
        "id": "1pR_IiX_RTqm"
      }
    },
    {
      "cell_type": "code",
      "source": [
        "lista_for = lambda dados: [tuple(linha) for linha in dados.itertuples(index=False)] # Converte DataFrame em lista de tuplas\n",
        "lista_comptmov = lambda dados: [compt for compt in dados['competênciamov'].unique()] # Extrai valores únicos da coluna 'competênciamov'"
      ],
      "metadata": {
        "id": "6eUNsUyiJMAj"
      },
      "execution_count": 296,
      "outputs": []
    },
    {
      "cell_type": "markdown",
      "source": [
        "Estas são duas funções `lambda` que servem para processar dados:\n",
        "\n",
        "---\n",
        "\n",
        " **`lista_for`**\n",
        "\n",
        "A função **`lista_for`** converte um DataFrame (`dados`) em uma lista de tuplas. Cada tupla representa uma linha do DataFrame, excluindo o índice.\n",
        "\n",
        "---\n",
        "\n",
        " **`lista_comptmov`**\n",
        "\n",
        "A função **`lista_comptmov`** extrai os valores únicos da coluna `'competênciamov'` de um DataFrame (`dados`), retornando-os como uma lista."
      ],
      "metadata": {
        "id": "O7QANnF2RIqP"
      }
    },
    {
      "cell_type": "code",
      "source": [
        "# def busca_linear_comptmov(lista,comptv,local,sexo,raca,idade,gdi):\n",
        "#   try:\n",
        "#     for i in lista: # Itera sobre a lista\n",
        "#       if i[:6] == (comptv,local,sexo,raca,idade,gdi): # Compara os primeiros 6 elementos da tupla\n",
        "#         return i[6] # Retorna o sétimo elemento se houver correspondência\n",
        "#     return 0 # Retorna 0 se nenhuma correspondência for encontrada\n",
        "#   except: # Captura exceções\n",
        "#     print(\"\") # Imprime linha vazia\n",
        "#     print('Erro na busca') # Imprime mensagem de erro"
      ],
      "metadata": {
        "id": "DfKpcX1vJBZ-"
      },
      "execution_count": 297,
      "outputs": []
    },
    {
      "cell_type": "code",
      "source": [
        "def busca_linear_comptmov(dic, comptv, local, sexo, raca, idade, gdi):\n",
        "    # Retorna o valor associado à chave composta no dicionário.\n",
        "    # Se a chave não existir, retorna 0.\n",
        "    return dic.get((comptv, local, sexo, raca, idade, gdi), 0)"
      ],
      "metadata": {
        "id": "ulLhXax8ww9S"
      },
      "execution_count": 298,
      "outputs": []
    },
    {
      "cell_type": "markdown",
      "source": [
        "Esta função busca um valor em um dicionário utilizando uma chave composta (formada por comptv, local, sexo, raca, idade, gdi) e retorna 0 se a chave não for encontrada."
      ],
      "metadata": {
        "id": "j3ZhB9LnRCAz"
      }
    },
    {
      "cell_type": "code",
      "source": [
        "def executar(compts, lista, local, sexo, raca, idade, gdi):\n",
        "    # Inicializa um dicionário com os campos de identificação e meses zerados.\n",
        "    dic_linha = {\n",
        "        \"uf\": local,\n",
        "        \"sexo\": sexo,\n",
        "        \"raca\": raca,\n",
        "        \"idade\": idade,\n",
        "        \"graudeinstrucao\": gdi,\n",
        "        \"janeiro\": 0,\n",
        "        \"fevereiro\": 0,\n",
        "        \"março\": 0,\n",
        "        \"abril\": 0,\n",
        "        \"maio\": 0,\n",
        "        \"junho\": 0,\n",
        "        \"julho\": 0,\n",
        "        \"agosto\": 0,\n",
        "        \"setembro\": 0,\n",
        "        \"outubro\": 0,\n",
        "        \"novembro\": 0,\n",
        "        \"dezembro\": 0\n",
        "    }\n",
        "\n",
        "    # Separa as competências em anteriores e posteriores a janeiro de 2024.\n",
        "    compts_anteriores = [c for c in compts if c == \"\" or c <= 202401.0]\n",
        "    compts_posteriores = [c for c in compts if c != \"\" and c > 202401.0]\n",
        "\n",
        "    # Para competências anteriores, soma os valores buscando por mês de 202401.0.\n",
        "    for c in compts_anteriores:\n",
        "        for mes in dic[202401.0]:\n",
        "            dic_linha[mes] += busca_linear_comptmov(lista, c, local, sexo, raca, idade, gdi)\n",
        "\n",
        "    # Para competências posteriores, soma os valores buscando pelo mês da competência atual.\n",
        "    for c in compts_posteriores:\n",
        "        for mes in dic[c]:\n",
        "            dic_linha[mes] += busca_linear_comptmov(lista, c, local, sexo, raca, idade, gdi)\n",
        "\n",
        "    return dic_linha # Retorna o dicionário com os valores somados por mês."
      ],
      "metadata": {
        "id": "qU_iV299J8-p"
      },
      "execution_count": 299,
      "outputs": []
    },
    {
      "cell_type": "markdown",
      "source": [
        "A função **executar** constrói um dicionário para uma linha de dados de admissão, preenchendo os campos de UF, sexo, raça, idade e grau de instrução. Em seguida, a função itera sobre os meses de uma competência específica (obtida de um dicionário global `dic`) e acumula valores usando a função `busca_linear_comptmov` para cada mês. Por fim, a função retorna o dicionário preenchido com todos os dados."
      ],
      "metadata": {
        "id": "3v5xNs7TQyTc"
      }
    },
    {
      "cell_type": "code",
      "source": [
        "def Tabela_For_admissoes(mes = 'janeiro') -> dict:\n",
        "  dados = list(dados_iterador()) # Converte iterador em lista de dados\n",
        "  dict_lista = {i[:6]: i[6] for i in lista_for(caged_for_admissoes(mes= mes))}\n",
        "  compts = lista_comptmov(caged_for_admissoes(mes= mes)) # Obtém lista de competências\n",
        "  # dic deve ser global ou passado também # Comentário sobre a variável 'dic'\n",
        "\n",
        "  with parallel_backend('loky'): # Define backend de paralelização\n",
        "        resultados = Parallel(n_jobs=-1)( # Inicia processamento paralelo\n",
        "            delayed(executar)(compts,dict_lista,x[0].upper(), x[1].upper(), x[2].upper(), x[3].upper(), x[4].upper()) # Executa função com atraso\n",
        "            for x in dados\n",
        "        )\n",
        "  return pd.DataFrame(resultados) # Retorna resultados em um DataFrame"
      ],
      "metadata": {
        "id": "0Nk1QlQjr4sh"
      },
      "execution_count": 300,
      "outputs": []
    },
    {
      "cell_type": "markdown",
      "source": [
        "A função `Tabela_For_admissoes` processa dados de admissões para um mês específico, utilizando processamento paralelo para criar um dicionário de DataFrames Pandas, onde cada chave representa uma competência e o valor é um DataFrame com os resultados das execuções."
      ],
      "metadata": {
        "id": "wqi4QxF0Qk-O"
      }
    },
    {
      "cell_type": "code",
      "source": [
        "def Tabela_For_admissoes_final():\n",
        "  dados = []\n",
        "\n",
        "  # Popula a lista 'dados' com todas as combinações de atributos\n",
        "  for local_ in local:\n",
        "    for sexo_ in sexo:\n",
        "      for raca_ in raca_cor:\n",
        "        for idade_ in idades:\n",
        "          for gdi_ in grau_de_instrucao:\n",
        "            dados.append({'sigla_uf': local_, 'sexo': sexo_, 'raca': raca_, 'faixa_etaria': idade_, 'grau_instrucao': gdi_})\n",
        "\n",
        "  df = pd.DataFrame(dados) # Converte a lista 'dados' em um DataFrame\n",
        "\n",
        "  # Instancia um objeto Tabela_For_admissoes para cada mês\n",
        "  janeiro = Tabela_For_admissoes(mes= 'janeiro')\n",
        "  fevereiro = Tabela_For_admissoes(mes= 'fevereiro')\n",
        "  marco = Tabela_For_admissoes(mes= 'março')\n",
        "  abril = Tabela_For_admissoes(mes= 'abril')\n",
        "  maio = Tabela_For_admissoes(mes= 'maio')\n",
        "  junho = Tabela_For_admissoes(mes= 'junho')\n",
        "  julho = Tabela_For_admissoes(mes= 'julho')\n",
        "  agosto = Tabela_For_admissoes(mes= 'agosto')\n",
        "  setembro = Tabela_For_admissoes(mes= 'setembro')\n",
        "  outubro = Tabela_For_admissoes(mes= 'outubro')\n",
        "  novembro = Tabela_For_admissoes(mes= 'novembro')\n",
        "  dezembro = Tabela_For_admissoes(mes= 'dezembro')\n",
        "\n",
        "  # Soma os valores mensais de todas as tabelas de admissões e armazena no DataFrame final\n",
        "  for mes in meses:\n",
        "    df[mes] = janeiro[mes] + fevereiro[mes] + marco[mes] + abril[mes] + maio[mes] + junho[mes] + julho[mes] + agosto[mes] + setembro[mes] + outubro[mes] + novembro[mes] + dezembro[mes]\n",
        "\n",
        "  return df # Retorna o DataFrame com as admissões consolidadas"
      ],
      "metadata": {
        "id": "h7ouKy-CR-af"
      },
      "execution_count": 302,
      "outputs": []
    },
    {
      "cell_type": "markdown",
      "source": [
        "CagedFor demissões"
      ],
      "metadata": {
        "id": "q3hm_ROaAiU1"
      }
    },
    {
      "cell_type": "code",
      "source": [
        "def caged_for_demissoes(mes = 'janeiro'):\n",
        "\n",
        "  mapeamento = { # Dicionário de mapeamento para padronizar os graus de instrução\n",
        "    '': '', # Mantém string vazia como vazia\n",
        "    'ANALFABETO': 'ANALFABETO', # Mapeia 'ANALFABETO' para 'ANALFABETO'\n",
        "    'ATE 5.A INC': 'ATE 5.A INC', # Mapeia 'ATE 5.A INC' para 'ATE 5.A INC'\n",
        "    '5.A CO FUND': '5.A CO FUND', # Mapeia '5.A CO FUND' para '5.A CO FUND'\n",
        "    '6.A.9.FUND': '6. A 9. FUND', # Mapeia '6.A.9.FUND' para '6. A 9. FUND'\n",
        "    'FUND COMPL': 'FUND COMPL', # Mapeia 'FUND COMPL' para 'FUND COMPL'\n",
        "    'MEDIO INCOMP': 'MEDIO INCOMP', # Mapeia 'MEDIO INCOMP' para 'MEDIO INCOMP'\n",
        "    'MEDIO COMPL': 'MEDIO COMPL', # Mapeia 'MEDIO COMPL' para 'MEDIO COMPL'\n",
        "    'SUP.INCOMP': 'SUP. INCOMP', # Mapeia 'SUP.INCOMP' para 'SUP. INCOMP'\n",
        "    'SUP.COMP': 'SUP. COMP', # Mapeia 'SUP.COMP' para 'SUP. COMP'\n",
        "    'MESTRADO': 'MESTRADO', # Mapeia 'MESTRADO' para 'MESTRADO'\n",
        "    'DOUTORADO': 'DOUTORADO' # Mapeia 'DOUTORADO' para 'DOUTORADO'\n",
        "}\n",
        "  try:\n",
        "    # Carrega o arquivo CSV\n",
        "    dados = pd.read_csv('/content/drive/MyDrive/for_demissoes2024 (2).csv', sep = ';') # Lê CSV\n",
        "    # Filtra por mês e seleciona colunas específicas, preenchendo vazios\n",
        "    dados['graudeinstrução'] = dados['graudeinstrução'].map(mapeamento) # Aplica o mapeamento aos graus de instrução\n",
        "    dados['uf'] = dados['uf'].str.upper() # Converte a coluna 'uf' para maiúsculas\n",
        "    dados['sexo'] = dados['sexo'].str.upper() # Converte a coluna 'sexo' para maiúsculas\n",
        "    dados['raçacor'] = dados['raçacor'].str.upper() # Converte a coluna 'raçacor' para maiúsculas\n",
        "    dados['faixa_idade'] = dados['faixa_idade'].str.upper() # Converte a coluna 'faixa_idade' para maiúsculas\n",
        "    dados['graudeinstrução'] = dados['graudeinstrução'].str.upper() # Converte a coluna 'graudeinstrução' para maiúsculas\n",
        "    return dados.query(f'mes == \"{mes}\"')[['competênciamov','uf','sexo','raçacor','faixa_idade','graudeinstrução','demissoes']].fillna(\"\") # Filtra, seleciona colunas e preenche NaN\n",
        "  except FileNotFoundError as caminho:\n",
        "    # Mensagem de erro se o arquivo não for encontrado\n",
        "    print(f\"Arquivo não encontrado em {caminho}\") # Informa erro de arquivo não encontrado"
      ],
      "metadata": {
        "id": "Ip32kgWkAheu"
      },
      "execution_count": 314,
      "outputs": []
    },
    {
      "cell_type": "markdown",
      "source": [
        "Esta função `caged_for_demissoes` carrega um dataset de demissões, padroniza e trata dados de colunas específicas como grau de instrução, UF, sexo, raça/cor e faixa etária, e então retorna um subconjunto dessas informações filtrado pelo mês de competência."
      ],
      "metadata": {
        "id": "iCLDvZjYJG5k"
      }
    },
    {
      "cell_type": "code",
      "source": [
        "def Tabela_For_demissoes(mes = 'janeiro') -> dict:\n",
        "  dados = list(dados_iterador()) # Converte iterador em lista de dados\n",
        "  dict_lista = {i[:6]: i[6] for i in lista_for(caged_for_demissoes(mes= mes))}\n",
        "  compts = lista_comptmov(caged_for_demissoes(mes= mes)) # Obtém lista de competências\n",
        "  # dic deve ser global ou passado também # Comentário sobre a variável 'dic'\n",
        "\n",
        "  with parallel_backend('loky'): # Define backend de paralelização\n",
        "        resultados = Parallel(n_jobs=-1)( # Inicia processamento paralelo\n",
        "            delayed(executar)(compts,dict_lista,x[0].upper(), x[1].upper(), x[2].upper(), x[3].upper(), x[4].upper()) # Executa função com atraso\n",
        "            for x in dados\n",
        "        )\n",
        "  return pd.DataFrame(resultados) # Retorna resultados em um DataFrame"
      ],
      "metadata": {
        "id": "xX9IFyD0BC4a"
      },
      "execution_count": 315,
      "outputs": []
    },
    {
      "cell_type": "markdown",
      "source": [
        "Esta função `Tabela_For_demissoes` processa dados de demissões para gerar uma tabela consolidada. Ela utiliza o resultado da função `caged_for_demissoes` para criar um dicionário de mapeamento e uma lista de competências. Em seguida, executa a função auxiliar executar em paralelo para cada item de uma lista de dados, retornando os resultados em um DataFrame do Pandas."
      ],
      "metadata": {
        "id": "oOzj8RFTJNEk"
      }
    },
    {
      "cell_type": "code",
      "source": [
        "def Tabela_For_demissoes_final():\n",
        "  dados = []\n",
        "\n",
        "  # Preenche 'dados' com combinações de atributos\n",
        "  for local_ in local:\n",
        "    for sexo_ in sexo:\n",
        "      for raca_ in raca_cor:\n",
        "        for idade_ in idades:\n",
        "          for gdi_ in grau_de_instrucao:\n",
        "            dados.append({'sigla_uf': local_, 'sexo': sexo_, 'raca': raca_, 'faixa_etaria': idade_, 'grau_instrucao': gdi_})\n",
        "\n",
        "  df = pd.DataFrame(dados) # Converte 'dados' em DataFrame\n",
        "\n",
        "  # Instancia Tabela_For_demissoes para cada mês\n",
        "  janeiro = Tabela_For_demissoes(mes= 'janeiro')\n",
        "  fevereiro = Tabela_For_demissoes(mes= 'fevereiro')\n",
        "  marco = Tabela_For_demissoes(mes= 'março')\n",
        "  abril = Tabela_For_demissoes(mes= 'abril')\n",
        "  maio = Tabela_For_demissoes(mes= 'maio')\n",
        "  junho = Tabela_For_demissoes(mes= 'junho')\n",
        "  julho = Tabela_For_demissoes(mes= 'julho')\n",
        "  agosto = Tabela_For_demissoes(mes= 'agosto')\n",
        "  setembro = Tabela_For_demissoes(mes= 'setembro')\n",
        "  outubro = Tabela_For_demissoes(mes= 'outubro')\n",
        "  novembro = Tabela_For_demissoes(mes= 'novembro')\n",
        "  dezembro = Tabela_For_demissoes(mes= 'dezembro')\n",
        "\n",
        "  # Soma os valores mensais de cada tabela\n",
        "  for mes in tqdm.tqdm(meses):\n",
        "    df[mes] = janeiro[mes] + fevereiro[mes] + marco[mes] + abril[mes] + maio[mes] + junho[mes] + julho[mes] + agosto[mes] + setembro[mes] + outubro[mes] + novembro[mes] + dezembro[mes]\n",
        "\n",
        "  return df # Retorna o DataFrame resultante\n"
      ],
      "metadata": {
        "id": "z-y0seEfBChJ"
      },
      "execution_count": 328,
      "outputs": []
    },
    {
      "cell_type": "markdown",
      "source": [
        "redator de código\n",
        "Gem personalizado\n",
        "A função Tabela_For_demissoes_final gera um DataFrame combinando dados de demissões de todos os meses do ano. Ela cria um conjunto inicial de combinações de filtros (UF, sexo, raça, idade, grau de instrução) e, para cada uma dessas combinações, soma os totais de demissões obtidos de cada mês através da função Tabela_For_demissoes. O resultado é um DataFrame final que resume as demissões anuais por essas categorias."
      ],
      "metadata": {
        "id": "pUU6XkB4Ji4y"
      }
    },
    {
      "cell_type": "code",
      "source": [
        "def teste_tabela_final():\n",
        "  dados = []\n",
        "\n",
        "  # Itera sobre combinações de filtros e adiciona ao DataFrame\n",
        "  for local_ in local:\n",
        "    for sexo_ in sexo:\n",
        "      for raca_ in raca_cor:\n",
        "        for idade_ in idades:\n",
        "          for gdi_ in grau_de_instrucao:\n",
        "            dados.append({'sigla_uf': local_, 'sexo': sexo_, 'raca': raca_, 'faixa_etaria': idade_, 'grau_instrucao': gdi_})\n",
        "  df = pd.DataFrame(dados) # Cria DataFrame com os dados\n",
        "\n",
        "  # Instancia classes de tabelas\n",
        "  rais = Tabela_Rais()\n",
        "  mov_admissoes = TabelaMOv_admissoes(admissoes = True)\n",
        "  mov_demissoes = TabelaMOv_admissoes(admissoes = False)\n",
        "  for_admissoes = Tabela_For_admissoes_final()\n",
        "  for_demissoes = Tabela_For_demissoes_final()\n",
        "\n",
        "  # Calcula valor mensal para cada combinação de filtros\n",
        "  for mes_ in meses:\n",
        "    df[mes_] = rais['estoque'] + mov_admissoes[mes_] - mov_demissoes[mes_] + for_admissoes[mes_] - for_demissoes[mes_]\n",
        "\n",
        "  return df # Retorna o DataFrame final"
      ],
      "metadata": {
        "id": "0_y4AuwmQIDK"
      },
      "execution_count": 330,
      "outputs": []
    },
    {
      "cell_type": "markdown",
      "source": [
        "A função `teste_tabela_final` consolida dados de diferentes fontes (RAIS, Movimentação de Admissões/Demissões e CAGED de Admissões/Demissões) em um único DataFrame. Ela primeiro cria um DataFrame base com todas as combinações de UF, sexo, raça, faixa etária e grau de instrução. Em seguida, para cada mês, calcula o estoque de empregos somando e subtraindo os dados das tabelas de admissões e demissões correspondentes."
      ],
      "metadata": {
        "id": "Lwv7AIrAJwMD"
      }
    }
  ]
}